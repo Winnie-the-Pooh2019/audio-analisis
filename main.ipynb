{
 "cells": [
  {
   "metadata": {},
   "cell_type": "markdown",
   "source": "## Common part",
   "id": "14c22393c57e5105"
  },
  {
   "cell_type": "code",
   "id": "initial_id",
   "metadata": {
    "collapsed": true,
    "ExecuteTime": {
     "end_time": "2025-06-08T10:33:14.082155Z",
     "start_time": "2025-06-08T10:33:14.079600Z"
    }
   },
   "source": [
    "from difflib import SequenceMatcher\n",
    "import dotenv\n",
    "import os\n",
    "import requests\n",
    "from gradio_client import Client, handle_file\n",
    "from sentence_transformers import SentenceTransformer, util\n",
    "from transformers import AutoModel, AutoTokenizer\n",
    "from pathlib import Path"
   ],
   "outputs": [],
   "execution_count": 60
  },
  {
   "metadata": {
    "ExecuteTime": {
     "end_time": "2025-06-08T10:33:18.457069Z",
     "start_time": "2025-06-08T10:33:18.453356Z"
    }
   },
   "cell_type": "code",
   "source": [
    "def remove_spaces_from_filename(filename):\n",
    "    name, ext = os.path.splitext(filename)\n",
    "    clean_name = name.replace(' ', '') + ext\n",
    "\n",
    "    return clean_name"
   ],
   "id": "d73ffe80ae3e89f1",
   "outputs": [],
   "execution_count": 61
  },
  {
   "metadata": {
    "ExecuteTime": {
     "end_time": "2025-06-08T10:33:19.944301Z",
     "start_time": "2025-06-08T10:33:19.941863Z"
    }
   },
   "cell_type": "code",
   "source": [
    "def remove_spaces_in_folder(folder_path):\n",
    "    for fname in os.listdir(folder_path):\n",
    "        old_path = os.path.join(folder_path, fname)\n",
    "        new_name = remove_spaces_from_filename(fname)\n",
    "        new_path = os.path.join(folder_path, new_name)\n",
    "        if old_path != new_path:\n",
    "            os.rename(old_path, new_path)\n",
    "            print(f\"Renamed: {fname} -> {new_name}\")"
   ],
   "id": "16769a7ef68f86",
   "outputs": [],
   "execution_count": 62
  },
  {
   "metadata": {
    "ExecuteTime": {
     "end_time": "2025-06-08T10:33:22.224807Z",
     "start_time": "2025-06-08T10:33:22.220401Z"
    }
   },
   "cell_type": "code",
   "source": "dotenv.load_dotenv(dotenv_path=\"./.env\")",
   "id": "268429954b6acd6f",
   "outputs": [
    {
     "data": {
      "text/plain": [
       "True"
      ]
     },
     "execution_count": 63,
     "metadata": {},
     "output_type": "execute_result"
    }
   ],
   "execution_count": 63
  },
  {
   "metadata": {
    "ExecuteTime": {
     "end_time": "2025-06-08T10:33:23.134545Z",
     "start_time": "2025-06-08T10:33:23.132544Z"
    }
   },
   "cell_type": "code",
   "source": [
    "BASE_URL = os.getenv(\"BASE_URL\")\n",
    "MODEL_NAME = os.getenv(\"WHISPER_MODEL\")"
   ],
   "id": "de84d6dca49e75e2",
   "outputs": [],
   "execution_count": 64
  },
  {
   "metadata": {
    "ExecuteTime": {
     "end_time": "2025-06-08T10:33:24.013676Z",
     "start_time": "2025-06-08T10:33:24.011206Z"
    }
   },
   "cell_type": "code",
   "source": [
    "MUSIC_DIR = os.getenv('MUSIC_DIR')\n",
    "MIDI_DIR = os.getenv('MIDI_DIR')\n",
    "WAV_DIR = os.getenv('WAV_DIR')\n",
    "SPLIT_DIR = os.getenv('SPLIT_DIR')"
   ],
   "id": "80cc65c2ef64a1b5",
   "outputs": [],
   "execution_count": 65
  },
  {
   "metadata": {
    "ExecuteTime": {
     "end_time": "2025-06-08T10:33:25.458102Z",
     "start_time": "2025-06-08T10:33:25.455350Z"
    }
   },
   "cell_type": "code",
   "source": "remove_spaces_in_folder(MUSIC_DIR)",
   "id": "67eb9793b0caa4d1",
   "outputs": [
    {
     "name": "stdout",
     "output_type": "stream",
     "text": [
      "Renamed: Time in a Bottle - Jim Croce.m4a -> TimeinaBottle-JimCroce.m4a\n",
      "Renamed: You re in the Army Now - Bolland   Bolland.m4a -> YoureintheArmyNow-BollandBolland.m4a\n",
      "Renamed: In The Army Now - Status Quo.m4a -> InTheArmyNow-StatusQuo.m4a\n",
      "Renamed: RADIO - Rammstein.m4a -> RADIO-Rammstein.m4a\n",
      "Renamed: Радио - RADIO TAPOK.m4a -> Радио-RADIOTAPOK.m4a\n"
     ]
    }
   ],
   "execution_count": 66
  },
  {
   "metadata": {},
   "cell_type": "markdown",
   "source": "## Convert to wav",
   "id": "7012148169c41254"
  },
  {
   "metadata": {
    "ExecuteTime": {
     "end_time": "2025-06-08T10:33:55.218900Z",
     "start_time": "2025-06-08T10:33:52.094604Z"
    }
   },
   "cell_type": "code",
   "source": "!bash ./wav_converter.sh",
   "id": "22bdd5a2dcc3f01b",
   "outputs": [
    {
     "name": "stdout",
     "output_type": "stream",
     "text": [
      "Converting './music/InTheArmyNow-StatusQuo.m4a' to 'InTheArmyNow-StatusQuo.wav'...\r\n"
     ]
    },
    {
     "name": "stderr",
     "output_type": "stream",
     "text": [
      "huggingface/tokenizers: The current process just got forked, after parallelism has already been used. Disabling parallelism to avoid deadlocks...\n",
      "To disable this warning, you can either:\n",
      "\t- Avoid using `tokenizers` before the fork if possible\n",
      "\t- Explicitly set the environment variable TOKENIZERS_PARALLELISM=(true | false)\n"
     ]
    },
    {
     "name": "stdout",
     "output_type": "stream",
     "text": [
      "ffmpeg version 7.1.1 Copyright (c) 2000-2025 the FFmpeg developers\r\n",
      "  built with gcc 14 (GCC)\r\n",
      "  configuration: --prefix=/usr --bindir=/usr/bin --datadir=/usr/share/ffmpeg --docdir=/usr/share/doc/ffmpeg --incdir=/usr/include/ffmpeg --libdir=/usr/lib64 --mandir=/usr/share/man --arch=x86_64 --optflags='-O2 -flto=auto -ffat-lto-objects -fexceptions -g -grecord-gcc-switches -pipe -Wall -Werror=format-security -Wp,-U_FORTIFY_SOURCE,-D_FORTIFY_SOURCE=3 -Wp,-D_GLIBCXX_ASSERTIONS -specs=/usr/lib/rpm/redhat/redhat-hardened-cc1 -fstack-protector-strong -specs=/usr/lib/rpm/redhat/redhat-annobin-cc1 -m64 -march=x86-64 -mtune=generic -fasynchronous-unwind-tables -fstack-clash-protection -fcf-protection -mtls-dialect=gnu2 -fno-omit-frame-pointer -mno-omit-leaf-frame-pointer ' --extra-ldflags='-Wl,-z,relro -Wl,--as-needed -Wl,-z,pack-relative-relocs -Wl,-z,now -specs=/usr/lib/rpm/redhat/redhat-hardened-ld -specs=/usr/lib/rpm/redhat/redhat-annobin-cc1 -Wl,--build-id=sha1 -specs=/usr/lib/rpm/redhat/redhat-package-notes ' --disable-htmlpages --enable-pic --disable-stripping --enable-shared --disable-static --enable-gpl --enable-version3 --enable-libsmbclient --disable-openssl --enable-bzlib --enable-frei0r --enable-chromaprint --enable-gcrypt --enable-gnutls --enable-ladspa --enable-lcms2 --enable-libshaderc --enable-vulkan --disable-cuda-sdk --enable-libaom --enable-libaribb24 --enable-libaribcaption --enable-libass --enable-libbluray --enable-libbs2b --enable-libcaca --enable-libcdio --enable-libcodec2 --enable-libdav1d --enable-libdc1394 --enable-libdvdnav --enable-libdvdread --enable-libfdk-aac --enable-libflite --enable-libfontconfig --enable-libfreetype --enable-libfribidi --enable-libharfbuzz --enable-libgme --enable-libgsm --enable-libiec61883 --enable-libilbc --enable-libjack --enable-libjxl --enable-liblc3 --enable-libmodplug --enable-libmp3lame --enable-libmysofa --enable-libopenh264 --enable-libopenjpeg --enable-libopenmpt --enable-libopus --enable-libplacebo --enable-libpulse --enable-libqrencode --enable-librabbitmq --enable-librav1e --enable-librist --enable-librsvg --enable-librubberband --enable-libsnappy --enable-libsvtav1 --enable-libsoxr --enable-libspeex --enable-libssh --enable-libsrt --enable-libtesseract --enable-libtheora --enable-libtwolame --enable-libvidstab --enable-libvmaf --enable-libvorbis --enable-libv4l2 --enable-libvpx --enable-libwebp --enable-libxml2 --enable-libzimg --enable-libzmq --enable-libzvbi --enable-lto --enable-libvpl --enable-lv2 --enable-vaapi --enable-vdpau --enable-libopencore-amrnb --enable-libopencore-amrwb --enable-libvo-amrwbenc --enable-libxvid --enable-openal --enable-opencl --enable-opengl --enable-pthreads --enable-vapoursynth --enable-muxers --enable-demuxers --enable-hwaccels --disable-encoders --disable-decoders --disable-decoder='h264,hevc,libxevd,vc1,vvc' --enable-encoder=',a64multi,a64multi5,aac,libfdk_aac,ac3,adpcm_adx,adpcm_argo,adpcm_g722,adpcm_g726,adpcm_g726le,adpcm_ima_alp,adpcm_ima_amv,adpcm_ima_apm,adpcm_ima_qt,adpcm_ima_ssi,adpcm_ima_wav,adpcm_ima_ws,adpcm_ms,adpcm_swf,adpcm_yamaha,alac,alias_pix,amv,anull,apng,ass,asv1,asv2,av1_amf,av1_nvenc,av1_qsv,av1_vaapi,bitpacked,bmp,cinepak,cljr,dca,dfpwm,dnxhd,dpx,dvbsub,dvdsub,dvvideo,exr,ffv1,ffvhuff,flac,flashsv,flashsv2,flv,g723_1,gif,h261,h263,h263_v4l2m2m,h263p,h264_amf,h264_nvenc,h264_qsv,h264_v4l2m2m,h264_vaapi,hap,hdr,hevc_amf,hevc_nvenc,hevc_qsv,hevc_v4l2m2m,hevc_vaapi,huffyuv,ilbc,jpeg2000,jpegls,libaom,libaom_av1,libcodec2,libgsm,libgsm_ms,libilbc,libjxl,liblc3,libmp3lame,libopencore_amrnb,libopenh264,libopenjpeg,libopus,librav1e,libspeex,libsvtav1,libtheora,libtwolame,libvo_amrwbenc,libvorbis,libvpx_vp8,libvpx_vp9,libwebp,libwebp_anim,libxvid,mjpeg,mjpeg_qsv,mjpeg_vaapi,mlp,mp2,mp2fixed,mpeg1video,mpeg2_qsv,mpeg2_vaapi,mpeg2video,mpeg4,mpeg4_v4l2m2m,msmpeg4v2,msmpeg4v3,msvideo1,nellymoser,opus,pam,pbm,pcm_alaw,pcm_f32be,pcm_f32le,pcm_f64be,pcm_f64le,pcm_mulaw,pcm_s16be,pcm_s16be_planar,pcm_s16le,pcm_s16le_planar,pcm_s24be,pcm_s24le,pcm_s24le_planar,pcm_s32be,pcm_s32le,pcm_s32le_planar,pcm_s8,pcm_s8_planar,pcm_u16be,pcm_u16le,pcm_u24be,pcm_u24le,pcm_u32be,pcm_u32le,pcm_u8,pcx,pgm,pgmyuv,phm,png,ppm,qoi,qtrle,r10k,r210,ra_144,rawvideo,roq,roq_dpcm,rpza,rv10,rv20,s302m,sbc,sgi,smc,snow,sonic,sonic_ls,speedhq,srt,ssa,subrip,sunrast,svq1,targa,text,tiff,truehd,tta,ttml,utvideo,v210,v308,v408,v410,vc1_qsv,vc1_v4l2m2m,vc2,vnull,vorbis,vp8_qsv,vp8_v4l2m2m,vp8_vaapi,vp9_qsv,vp9_vaapi,wavpack,wbmp,webvtt,wmav1,wmav2,wmv1,wmv2,wrapped_avframe,xbm,xface,xsub,xwd,y41p,yuv4,zlib,zmbv,' --enable-decoder=',aasc,libfdk_aac,ac3,acelp_kelvin,adpcm_4xm,adpcm_adx,adpcm_afc,adpcm_agm,adpcm_aica,adpcm_argo,adpcm_ct,adpcm_dtk,adpcm_ea,adpcm_ea_maxis_xa,adpcm_ea_r1,adpcm_ea_r2,adpcm_ea_r3,adpcm_ea_xas,adpcm_g722,adpcm_g726,adpcm_g726le,adpcm_ima_acorn,adpcm_ima_alp,adpcm_ima_amv,adpcm_ima_apc,adpcm_ima_apm,adpcm_ima_cunning,adpcm_ima_dat4,adpcm_ima_dk3,adpcm_ima_dk4,adpcm_ima_ea_eacs,adpcm_ima_ea_sead,adpcm_ima_iss,adpcm_ima_moflex,adpcm_ima_mtf,adpcm_ima_oki,adpcm_ima_qt,adpcm_ima_qt_at,adpcm_ima_rad,adpcm_ima_smjpeg,adpcm_ima_ssi,adpcm_ima_wav,adpcm_ima_ws,adpcm_ms,adpcm_mtaf,adpcm_psx,adpcm_sbpro_2,adpcm_sbpro_3,adpcm_sbpro_4,adpcm_swf,adpcm_thp,adpcm_thp_le,adpcm_vima,adpcm_xa,adpcm_xmd,adpcm_yamaha,adpcm_zork,alac,alias_pix,amrnb,amrwb,amv,anm,ansi,anull,apac,ape,apng,arbc,argo,ass,asv1,asv2,atrac1,atrac3,atrac3al,atrac3p,atrac3pal,aura,aura2,av1,av1_qsv,bethsoftvid,bfi,bink,binkaudio_dct,binkaudio_rdft,bintext,bitpacked,bmp,bmv_audio,bmv_video,bonk,brender_pix,c93,cbd2_dpcm,ccaption,cdgraphics,cdtoons,cdxl,cinepak,clearvideo,cljr,cook,cpia,cscd,cyuv,dca,dds,derf_dpcm,dfa,dfpwm,dirac,dnxhd,dolby_e,dpx,dsd_lsbf,dsd_msbf,dsicinaudio,dsicinvideo,dss_sp,dvaudio,dvbsub,dvdsub,dvvideo,dxa,dxtory,eacmv,eamad,eatgq,eatgv,eatqi,eightbps,eightsvx_exp,eightsvx_fib,escape124,escape130,evrc,exr,ffv1,ffvhuff,ffwavesynth,fits,flac,flashsv,flashsv2,flic,flv,fmvc,fourxm,ftr,g723_1,g729,gdv,gem,gif,gremlin_dpcm,gsm,gsm_ms,gsm_ms_at,h261,h263,h263_v4l2m2m,h263i,h263p,hap,hca,hcom,hdr,hnm4_video,hq_hqa,hqx,huffyuv,hymt,iac,idcin,idf,iff_ilbm,ilbc,imc,indeo2,indeo3,indeo4,indeo5,interplay_acm,interplay_dpcm,interplay_video,ipu,jacosub,jpeg2000,jpegls,jv,kgv1,kmvc,lagarith,libaribb24,libaribcaption,libaom,libaom_av1,libcodec2,libdav1d,libgsm,libgsm_ms,libilbc,libjxl,liblc3,libopencore_amrnb,libopencore_amrwb,libopenh264,libopenjpeg,libopus,librsvg,libschroedinger,libspeex,libvorbis,libvpx_vp8,libvpx_vp9,libzvbi_teletext,loco,lscr,m101,mace3,mace6,mdec,media100,metasound,microdvd,mimic,misc4,mjpeg,mjpeg_qsv,mjpegb,mlp,mmvideo,motionpixels,mp1,mp1float,mp2,mp2float,mp3,mp3adu,mp3adufloat,mp3float,mp3on4,mp3on4float,mpc7,mpc8,mpeg1_v4l2m2m,mpeg1video,mpeg2_qsv,mpeg2_v4l2m2m,mpeg2video,mpeg4,mpeg4_v4l2m2m,mpegvideo,mpl2,msa1,mscc,msmpeg4v1,msmpeg4v2,msmpeg4v3,msnsiren,msp2,msrle,mss1,mss2,msvideo1,mszh,mts2,mv30,mvc1,mvc2,mvdv,mvha,mwsc,mxpeg,nellymoser,nuv,on2avc,opus,paf_audio,paf_video,pam,pbm,pcm_alaw,pcm_bluray,pcm_dvd,pcm_f16le,pcm_f24le,pcm_f32be,pcm_f32le,pcm_f64be,pcm_f64le,pcm_lxf,pcm_mulaw,pcm_s16be,pcm_s16be_planar,pcm_s16le,pcm_s16le_planar,pcm_s24be,pcm_s24daud,pcm_s24le,pcm_s24le_planar,pcm_s32be,pcm_s32le,pcm_s32le_planar,pcm_s64be,pcm_s64le,pcm_s8,pcm_s8_planar,pcm_sga,pcm_u16be,pcm_u16le,pcm_u24be,pcm_u24le,pcm_u32be,pcm_u32le,pcm_u8,pcm_vidc,pcx,pfm,pgm,pgmyuv,pgssub,pgx,phm,photocd,pictor,pjs,png,ppm,prosumer,psd,ptx,qcelp,qdm2,qdmc,qdraw,qoa,qoi,qpeg,qtrle,r10k,r210,ra_144,ra_288,rasc,rawvideo,realtext,rka,rl2,roq,roq_dpcm,rpza,rscc,rv10,rv20,s302m,sami,sanm,sbc,screenpresso,sdx2_dpcm,sgi,sgirle,shorten,simbiosis_imx,sipr,siren,smackaud,smacker,smc,smvjpeg,snow,sol_dpcm,sonic,sp5x,speedhq,speex,srgc,srt,ssa,stl,subrip,subviewer,subviewer1,sunrast,svq1,svq3,tak,targa,targa_y216,tdsc,text,theora,thp,tiertexseqvideo,tiff,tmv,truehd,truemotion1,truemotion2,truemotion2rt,truespeech,tscc,tscc2,tta,twinvq,txd,ulti,utvideo,v210,v210x,v308,v408,v410,vb,vble,vcr1,vmdaudio,vmdvideo,vmnc,vnull,vorbis,vp3,vp4,vp5,vp6,vp6a,vp6f,vp7,vp8,vp8_qsv,vp8_v4l2m2m,vp9,vp9_qsv,vp9_v4l2m2m,vplayer,vqa,vqc,wady_dpcm,wavarc,wavpack,wbmp,wcmv,webp,webvtt,wmav1,wmav2,wmavoice,wmv1,wmv2,wnv1,wrapped_avframe,ws_snd1,xan_dpcm,xan_wc3,xan_wc4,xbin,xbm,xface,xl,xpm,xsub,xwd,y41p,ylc,yop,yuv4,zero12v,zerocodec,zlib,zmbv,'\r\n",
      "  libavutil      59. 39.100 / 59. 39.100\r\n",
      "  libavcodec     61. 19.101 / 61. 19.101\r\n",
      "  libavformat    61.  7.100 / 61.  7.100\r\n",
      "  libavdevice    61.  3.100 / 61.  3.100\r\n",
      "  libavfilter    10.  4.100 / 10.  4.100\r\n",
      "  libswscale      8.  3.100 /  8.  3.100\r\n",
      "  libswresample   5.  3.100 /  5.  3.100\r\n",
      "  libpostproc    58.  3.100 / 58.  3.100\r\n",
      "\u001B[0;35m[mov,mp4,m4a,3gp,3g2,mj2 @ 0x56442346fa40] \u001B[0m\u001B[0;33mstream 0, timescale not set\r\n",
      "\u001B[0mInput #0, mov,mp4,m4a,3gp,3g2,mj2, from './music/InTheArmyNow-StatusQuo.m4a':\r\n",
      "  Metadata:\r\n",
      "    major_brand     : M4A \r\n",
      "    minor_version   : 512\r\n",
      "    compatible_brands: M4A isomiso2\r\n",
      "    title           : In The Army Now\r\n",
      "    artist          : Status Quo\r\n",
      "    album           : Music For The Soul Vol 1\r\n",
      "    date            : 20230608\r\n",
      "    encoder         : Lavf58.45.100\r\n",
      "    comment         : https://www.youtube.com/watch?v=KBsxR2NpW2I\r\n",
      "    description     : Provided to YouTube by Universal Music Group\r\n",
      "                    : \r\n",
      "                    : In The Army Now · Status Quo\r\n",
      "                    : \r\n",
      "                    : Music For The Soul Vol 1\r\n",
      "                    : \r\n",
      "                    : ℗ 1986 Mercury Records Limited\r\n",
      "                    : \r\n",
      "                    : Released on: 2023-06-09\r\n",
      "                    : \r\n",
      "                    : Producer: Pip Williams\r\n",
      "                    : Vocalist: Francis Rossi\r\n",
      "                    : Vocalist: Rick Parfitt\r\n",
      "                    : Vocalist: Alan Lancaster\r\n",
      "                    : Background Vocalist: Andy Bown\r\n",
      "                    : Composer Lyricist: Robert J. Bolland\r\n",
      "                    : Composer Lyricist: Ferdi Bolland\r\n",
      "                    : \r\n",
      "                    : Auto-generated by YouTube.\r\n",
      "    synopsis        : Provided to YouTube by Universal Music Group\r\n",
      "                    : \r\n",
      "                    : In The Army Now · Status Quo\r\n",
      "                    : \r\n",
      "                    : Music For The Soul Vol 1\r\n",
      "                    : \r\n",
      "                    : ℗ 1986 Mercury Records Limited\r\n",
      "                    : \r\n",
      "                    : Released on: 2023-06-09\r\n",
      "                    : \r\n",
      "                    : Producer: Pip Williams\r\n",
      "                    : Vocalist: Francis Rossi\r\n",
      "                    : Vocalist: Rick Parfitt\r\n",
      "                    : Vocalist: Alan Lancaster\r\n",
      "                    : Background Vocalist: Andy Bown\r\n",
      "                    : Composer Lyricist: Robert J. Bolland\r\n",
      "                    : Composer Lyricist: Ferdi Bolland\r\n",
      "                    : \r\n",
      "                    : Auto-generated by YouTube.\r\n",
      "  Duration: 00:04:41.76, start: 0.000000, bitrate: 132 kb/s\r\n",
      "  Stream #0:0[0x1](und): Audio: aac (libfdk_aac) (LC) (mp4a / 0x6134706D), 44100 Hz, stereo, s16, 128 kb/s (default)\r\n",
      "      Metadata:\r\n",
      "        handler_name    : ISO Media file produced by Google Inc.\r\n",
      "        vendor_id       : [0][0][0][0]\r\n",
      "  Stream #0:1[0x0]: Video: mjpeg (Baseline), yuvj444p(pc, bt470bg/unknown/unknown), 544x544 [SAR 1:1 DAR 1:1], 90k tbr, 90k tbn (attached pic)\r\n",
      "Stream mapping:\r\n",
      "  Stream #0:0 -> #0:0 (aac (libfdk_aac) -> pcm_s16le (native))\r\n",
      "Press [q] to stop, [?] for help\r\n",
      "Output #0, wav, to './wav/InTheArmyNow-StatusQuo.wav':\r\n",
      "  Metadata:\r\n",
      "    major_brand     : M4A \r\n",
      "    minor_version   : 512\r\n",
      "    compatible_brands: M4A isomiso2\r\n",
      "    INAM            : In The Army Now\r\n",
      "    IART            : Status Quo\r\n",
      "    IPRD            : Music For The Soul Vol 1\r\n",
      "    ICRD            : 20230608\r\n",
      "    synopsis        : Provided to YouTube by Universal Music Group\r\n",
      "                    : \r\n",
      "                    : In The Army Now · Status Quo\r\n",
      "                    : \r\n",
      "                    : Music For The Soul Vol 1\r\n",
      "                    : \r\n",
      "                    : ℗ 1986 Mercury Records Limited\r\n",
      "                    : \r\n",
      "                    : Released on: 2023-06-09\r\n",
      "                    : \r\n",
      "                    : Producer: Pip Williams\r\n",
      "                    : Vocalist: Francis Rossi\r\n",
      "                    : Vocalist: Rick Parfitt\r\n",
      "                    : Vocalist: Alan Lancaster\r\n",
      "                    : Background Vocalist: Andy Bown\r\n",
      "                    : Composer Lyricist: Robert J. Bolland\r\n",
      "                    : Composer Lyricist: Ferdi Bolland\r\n",
      "                    : \r\n",
      "                    : Auto-generated by YouTube.\r\n",
      "    ICMT            : https://www.youtube.com/watch?v=KBsxR2NpW2I\r\n",
      "    description     : Provided to YouTube by Universal Music Group\r\n",
      "                    : \r\n",
      "                    : In The Army Now · Status Quo\r\n",
      "                    : \r\n",
      "                    : Music For The Soul Vol 1\r\n",
      "                    : \r\n",
      "                    : ℗ 1986 Mercury Records Limited\r\n",
      "                    : \r\n",
      "                    : Released on: 2023-06-09\r\n",
      "                    : \r\n",
      "                    : Producer: Pip Williams\r\n",
      "                    : Vocalist: Francis Rossi\r\n",
      "                    : Vocalist: Rick Parfitt\r\n",
      "                    : Vocalist: Alan Lancaster\r\n",
      "                    : Background Vocalist: Andy Bown\r\n",
      "                    : Composer Lyricist: Robert J. Bolland\r\n",
      "                    : Composer Lyricist: Ferdi Bolland\r\n",
      "                    : \r\n",
      "                    : Auto-generated by YouTube.\r\n",
      "    ISFT            : Lavf61.7.100\r\n",
      "  Stream #0:0(und): Audio: pcm_s16le ([1][0][0][0] / 0x0001), 44100 Hz, stereo, s16, 1411 kb/s (default)\r\n",
      "      Metadata:\r\n",
      "        handler_name    : ISO Media file produced by Google Inc.\r\n",
      "        vendor_id       : [0][0][0][0]\r\n",
      "        encoder         : Lavc61.19.101 pcm_s16le\r\n",
      "\u001B[1;35m[out#0/wav @ 0x564423583f80] \u001B[0mvideo:0KiB audio:48544KiB subtitle:0KiB other streams:0KiB global headers:0KiB muxing overhead: 0.000455%\r\n",
      "size=   48544KiB time=00:04:41.75 bitrate=1411.4kbits/s speed= 515x    \r\n",
      "Converting './music/RADIO-Rammstein.m4a' to 'RADIO-Rammstein.wav'...\r\n",
      "ffmpeg version 7.1.1 Copyright (c) 2000-2025 the FFmpeg developers\r\n",
      "  built with gcc 14 (GCC)\r\n",
      "  configuration: --prefix=/usr --bindir=/usr/bin --datadir=/usr/share/ffmpeg --docdir=/usr/share/doc/ffmpeg --incdir=/usr/include/ffmpeg --libdir=/usr/lib64 --mandir=/usr/share/man --arch=x86_64 --optflags='-O2 -flto=auto -ffat-lto-objects -fexceptions -g -grecord-gcc-switches -pipe -Wall -Werror=format-security -Wp,-U_FORTIFY_SOURCE,-D_FORTIFY_SOURCE=3 -Wp,-D_GLIBCXX_ASSERTIONS -specs=/usr/lib/rpm/redhat/redhat-hardened-cc1 -fstack-protector-strong -specs=/usr/lib/rpm/redhat/redhat-annobin-cc1 -m64 -march=x86-64 -mtune=generic -fasynchronous-unwind-tables -fstack-clash-protection -fcf-protection -mtls-dialect=gnu2 -fno-omit-frame-pointer -mno-omit-leaf-frame-pointer ' --extra-ldflags='-Wl,-z,relro -Wl,--as-needed -Wl,-z,pack-relative-relocs -Wl,-z,now -specs=/usr/lib/rpm/redhat/redhat-hardened-ld -specs=/usr/lib/rpm/redhat/redhat-annobin-cc1 -Wl,--build-id=sha1 -specs=/usr/lib/rpm/redhat/redhat-package-notes ' --disable-htmlpages --enable-pic --disable-stripping --enable-shared --disable-static --enable-gpl --enable-version3 --enable-libsmbclient --disable-openssl --enable-bzlib --enable-frei0r --enable-chromaprint --enable-gcrypt --enable-gnutls --enable-ladspa --enable-lcms2 --enable-libshaderc --enable-vulkan --disable-cuda-sdk --enable-libaom --enable-libaribb24 --enable-libaribcaption --enable-libass --enable-libbluray --enable-libbs2b --enable-libcaca --enable-libcdio --enable-libcodec2 --enable-libdav1d --enable-libdc1394 --enable-libdvdnav --enable-libdvdread --enable-libfdk-aac --enable-libflite --enable-libfontconfig --enable-libfreetype --enable-libfribidi --enable-libharfbuzz --enable-libgme --enable-libgsm --enable-libiec61883 --enable-libilbc --enable-libjack --enable-libjxl --enable-liblc3 --enable-libmodplug --enable-libmp3lame --enable-libmysofa --enable-libopenh264 --enable-libopenjpeg --enable-libopenmpt --enable-libopus --enable-libplacebo --enable-libpulse --enable-libqrencode --enable-librabbitmq --enable-librav1e --enable-librist --enable-librsvg --enable-librubberband --enable-libsnappy --enable-libsvtav1 --enable-libsoxr --enable-libspeex --enable-libssh --enable-libsrt --enable-libtesseract --enable-libtheora --enable-libtwolame --enable-libvidstab --enable-libvmaf --enable-libvorbis --enable-libv4l2 --enable-libvpx --enable-libwebp --enable-libxml2 --enable-libzimg --enable-libzmq --enable-libzvbi --enable-lto --enable-libvpl --enable-lv2 --enable-vaapi --enable-vdpau --enable-libopencore-amrnb --enable-libopencore-amrwb --enable-libvo-amrwbenc --enable-libxvid --enable-openal --enable-opencl --enable-opengl --enable-pthreads --enable-vapoursynth --enable-muxers --enable-demuxers --enable-hwaccels --disable-encoders --disable-decoders --disable-decoder='h264,hevc,libxevd,vc1,vvc' --enable-encoder=',a64multi,a64multi5,aac,libfdk_aac,ac3,adpcm_adx,adpcm_argo,adpcm_g722,adpcm_g726,adpcm_g726le,adpcm_ima_alp,adpcm_ima_amv,adpcm_ima_apm,adpcm_ima_qt,adpcm_ima_ssi,adpcm_ima_wav,adpcm_ima_ws,adpcm_ms,adpcm_swf,adpcm_yamaha,alac,alias_pix,amv,anull,apng,ass,asv1,asv2,av1_amf,av1_nvenc,av1_qsv,av1_vaapi,bitpacked,bmp,cinepak,cljr,dca,dfpwm,dnxhd,dpx,dvbsub,dvdsub,dvvideo,exr,ffv1,ffvhuff,flac,flashsv,flashsv2,flv,g723_1,gif,h261,h263,h263_v4l2m2m,h263p,h264_amf,h264_nvenc,h264_qsv,h264_v4l2m2m,h264_vaapi,hap,hdr,hevc_amf,hevc_nvenc,hevc_qsv,hevc_v4l2m2m,hevc_vaapi,huffyuv,ilbc,jpeg2000,jpegls,libaom,libaom_av1,libcodec2,libgsm,libgsm_ms,libilbc,libjxl,liblc3,libmp3lame,libopencore_amrnb,libopenh264,libopenjpeg,libopus,librav1e,libspeex,libsvtav1,libtheora,libtwolame,libvo_amrwbenc,libvorbis,libvpx_vp8,libvpx_vp9,libwebp,libwebp_anim,libxvid,mjpeg,mjpeg_qsv,mjpeg_vaapi,mlp,mp2,mp2fixed,mpeg1video,mpeg2_qsv,mpeg2_vaapi,mpeg2video,mpeg4,mpeg4_v4l2m2m,msmpeg4v2,msmpeg4v3,msvideo1,nellymoser,opus,pam,pbm,pcm_alaw,pcm_f32be,pcm_f32le,pcm_f64be,pcm_f64le,pcm_mulaw,pcm_s16be,pcm_s16be_planar,pcm_s16le,pcm_s16le_planar,pcm_s24be,pcm_s24le,pcm_s24le_planar,pcm_s32be,pcm_s32le,pcm_s32le_planar,pcm_s8,pcm_s8_planar,pcm_u16be,pcm_u16le,pcm_u24be,pcm_u24le,pcm_u32be,pcm_u32le,pcm_u8,pcx,pgm,pgmyuv,phm,png,ppm,qoi,qtrle,r10k,r210,ra_144,rawvideo,roq,roq_dpcm,rpza,rv10,rv20,s302m,sbc,sgi,smc,snow,sonic,sonic_ls,speedhq,srt,ssa,subrip,sunrast,svq1,targa,text,tiff,truehd,tta,ttml,utvideo,v210,v308,v408,v410,vc1_qsv,vc1_v4l2m2m,vc2,vnull,vorbis,vp8_qsv,vp8_v4l2m2m,vp8_vaapi,vp9_qsv,vp9_vaapi,wavpack,wbmp,webvtt,wmav1,wmav2,wmv1,wmv2,wrapped_avframe,xbm,xface,xsub,xwd,y41p,yuv4,zlib,zmbv,' --enable-decoder=',aasc,libfdk_aac,ac3,acelp_kelvin,adpcm_4xm,adpcm_adx,adpcm_afc,adpcm_agm,adpcm_aica,adpcm_argo,adpcm_ct,adpcm_dtk,adpcm_ea,adpcm_ea_maxis_xa,adpcm_ea_r1,adpcm_ea_r2,adpcm_ea_r3,adpcm_ea_xas,adpcm_g722,adpcm_g726,adpcm_g726le,adpcm_ima_acorn,adpcm_ima_alp,adpcm_ima_amv,adpcm_ima_apc,adpcm_ima_apm,adpcm_ima_cunning,adpcm_ima_dat4,adpcm_ima_dk3,adpcm_ima_dk4,adpcm_ima_ea_eacs,adpcm_ima_ea_sead,adpcm_ima_iss,adpcm_ima_moflex,adpcm_ima_mtf,adpcm_ima_oki,adpcm_ima_qt,adpcm_ima_qt_at,adpcm_ima_rad,adpcm_ima_smjpeg,adpcm_ima_ssi,adpcm_ima_wav,adpcm_ima_ws,adpcm_ms,adpcm_mtaf,adpcm_psx,adpcm_sbpro_2,adpcm_sbpro_3,adpcm_sbpro_4,adpcm_swf,adpcm_thp,adpcm_thp_le,adpcm_vima,adpcm_xa,adpcm_xmd,adpcm_yamaha,adpcm_zork,alac,alias_pix,amrnb,amrwb,amv,anm,ansi,anull,apac,ape,apng,arbc,argo,ass,asv1,asv2,atrac1,atrac3,atrac3al,atrac3p,atrac3pal,aura,aura2,av1,av1_qsv,bethsoftvid,bfi,bink,binkaudio_dct,binkaudio_rdft,bintext,bitpacked,bmp,bmv_audio,bmv_video,bonk,brender_pix,c93,cbd2_dpcm,ccaption,cdgraphics,cdtoons,cdxl,cinepak,clearvideo,cljr,cook,cpia,cscd,cyuv,dca,dds,derf_dpcm,dfa,dfpwm,dirac,dnxhd,dolby_e,dpx,dsd_lsbf,dsd_msbf,dsicinaudio,dsicinvideo,dss_sp,dvaudio,dvbsub,dvdsub,dvvideo,dxa,dxtory,eacmv,eamad,eatgq,eatgv,eatqi,eightbps,eightsvx_exp,eightsvx_fib,escape124,escape130,evrc,exr,ffv1,ffvhuff,ffwavesynth,fits,flac,flashsv,flashsv2,flic,flv,fmvc,fourxm,ftr,g723_1,g729,gdv,gem,gif,gremlin_dpcm,gsm,gsm_ms,gsm_ms_at,h261,h263,h263_v4l2m2m,h263i,h263p,hap,hca,hcom,hdr,hnm4_video,hq_hqa,hqx,huffyuv,hymt,iac,idcin,idf,iff_ilbm,ilbc,imc,indeo2,indeo3,indeo4,indeo5,interplay_acm,interplay_dpcm,interplay_video,ipu,jacosub,jpeg2000,jpegls,jv,kgv1,kmvc,lagarith,libaribb24,libaribcaption,libaom,libaom_av1,libcodec2,libdav1d,libgsm,libgsm_ms,libilbc,libjxl,liblc3,libopencore_amrnb,libopencore_amrwb,libopenh264,libopenjpeg,libopus,librsvg,libschroedinger,libspeex,libvorbis,libvpx_vp8,libvpx_vp9,libzvbi_teletext,loco,lscr,m101,mace3,mace6,mdec,media100,metasound,microdvd,mimic,misc4,mjpeg,mjpeg_qsv,mjpegb,mlp,mmvideo,motionpixels,mp1,mp1float,mp2,mp2float,mp3,mp3adu,mp3adufloat,mp3float,mp3on4,mp3on4float,mpc7,mpc8,mpeg1_v4l2m2m,mpeg1video,mpeg2_qsv,mpeg2_v4l2m2m,mpeg2video,mpeg4,mpeg4_v4l2m2m,mpegvideo,mpl2,msa1,mscc,msmpeg4v1,msmpeg4v2,msmpeg4v3,msnsiren,msp2,msrle,mss1,mss2,msvideo1,mszh,mts2,mv30,mvc1,mvc2,mvdv,mvha,mwsc,mxpeg,nellymoser,nuv,on2avc,opus,paf_audio,paf_video,pam,pbm,pcm_alaw,pcm_bluray,pcm_dvd,pcm_f16le,pcm_f24le,pcm_f32be,pcm_f32le,pcm_f64be,pcm_f64le,pcm_lxf,pcm_mulaw,pcm_s16be,pcm_s16be_planar,pcm_s16le,pcm_s16le_planar,pcm_s24be,pcm_s24daud,pcm_s24le,pcm_s24le_planar,pcm_s32be,pcm_s32le,pcm_s32le_planar,pcm_s64be,pcm_s64le,pcm_s8,pcm_s8_planar,pcm_sga,pcm_u16be,pcm_u16le,pcm_u24be,pcm_u24le,pcm_u32be,pcm_u32le,pcm_u8,pcm_vidc,pcx,pfm,pgm,pgmyuv,pgssub,pgx,phm,photocd,pictor,pjs,png,ppm,prosumer,psd,ptx,qcelp,qdm2,qdmc,qdraw,qoa,qoi,qpeg,qtrle,r10k,r210,ra_144,ra_288,rasc,rawvideo,realtext,rka,rl2,roq,roq_dpcm,rpza,rscc,rv10,rv20,s302m,sami,sanm,sbc,screenpresso,sdx2_dpcm,sgi,sgirle,shorten,simbiosis_imx,sipr,siren,smackaud,smacker,smc,smvjpeg,snow,sol_dpcm,sonic,sp5x,speedhq,speex,srgc,srt,ssa,stl,subrip,subviewer,subviewer1,sunrast,svq1,svq3,tak,targa,targa_y216,tdsc,text,theora,thp,tiertexseqvideo,tiff,tmv,truehd,truemotion1,truemotion2,truemotion2rt,truespeech,tscc,tscc2,tta,twinvq,txd,ulti,utvideo,v210,v210x,v308,v408,v410,vb,vble,vcr1,vmdaudio,vmdvideo,vmnc,vnull,vorbis,vp3,vp4,vp5,vp6,vp6a,vp6f,vp7,vp8,vp8_qsv,vp8_v4l2m2m,vp9,vp9_qsv,vp9_v4l2m2m,vplayer,vqa,vqc,wady_dpcm,wavarc,wavpack,wbmp,wcmv,webp,webvtt,wmav1,wmav2,wmavoice,wmv1,wmv2,wnv1,wrapped_avframe,ws_snd1,xan_dpcm,xan_wc3,xan_wc4,xbin,xbm,xface,xl,xpm,xsub,xwd,y41p,ylc,yop,yuv4,zero12v,zerocodec,zlib,zmbv,'\r\n",
      "  libavutil      59. 39.100 / 59. 39.100\r\n",
      "  libavcodec     61. 19.101 / 61. 19.101\r\n",
      "  libavformat    61.  7.100 / 61.  7.100\r\n",
      "  libavdevice    61.  3.100 / 61.  3.100\r\n",
      "  libavfilter    10.  4.100 / 10.  4.100\r\n",
      "  libswscale      8.  3.100 /  8.  3.100\r\n",
      "  libswresample   5.  3.100 /  5.  3.100\r\n",
      "  libpostproc    58.  3.100 / 58.  3.100\r\n",
      "\u001B[0;35m[mov,mp4,m4a,3gp,3g2,mj2 @ 0x55a118d2fa40] \u001B[0m\u001B[0;33mstream 0, timescale not set\r\n",
      "\u001B[0mInput #0, mov,mp4,m4a,3gp,3g2,mj2, from './music/RADIO-Rammstein.m4a':\r\n",
      "  Metadata:\r\n",
      "    major_brand     : M4A \r\n",
      "    minor_version   : 512\r\n",
      "    compatible_brands: isomiso2\r\n",
      "    title           : Radio\r\n",
      "    artist          : Rammstein\r\n",
      "    album           : Rammstein\r\n",
      "    date            : 20220301\r\n",
      "    encoder         : Lavf57.83.100\r\n",
      "    comment         : https://www.youtube.com/watch?v=xR1cVBlFXIw\r\n",
      "    description     : Provided to YouTube by Universal Music Group\r\n",
      "                    : \r\n",
      "                    : Radio · Rammstein\r\n",
      "                    : \r\n",
      "                    : Rammstein\r\n",
      "                    : \r\n",
      "                    : ℗ A Vertigo/Capitol recording; ℗ 2019 RAMMSTEIN GBR, under exclusive license to Universal Music GmbH\r\n",
      "                    : \r\n",
      "                    : Released on: 2019-05-17\r\n",
      "                    : \r\n",
      "                    : Producer, Studio  Personnel, Recording  Engineer, Mixer, Associated  Performer, Programming: Olsen Involtini\r\n",
      "                    : Producer: Rammstein\r\n",
      "                    : Studio  Personnel, Recording  Engineer, Engineer: Tom Dalgety\r\n",
      "                    : Studio  Personnel, Asst.  Recording  Engineer: Daniel Cayotte\r\n",
      "                    : Studio  Personnel, Editor: Florian Ammon\r\n",
      "                    : Studio  Personnel, Recording  Engineer: Sky van Hoff\r\n",
      "                    : Studio  Personnel, Mastering  Engineer: Svante Forsbäck\r\n",
      "                    : Composer  Lyricist: RICHARD Z. KRUSPE\r\n",
      "                    : Composer  Lyricist: PAUL LANDERS\r\n",
      "                    : Composer  Lyricist: TILL LINDEMANN\r\n",
      "                    : Composer  Lyricist: DOKTOR CHRISTIAN LORENZ\r\n",
      "                    : Composer  Lyricist: OLIVER RIEDEL\r\n",
      "                    : Composer  Lyricist: CHRISTOPH DOOM SCHNEIDER\r\n",
      "                    : \r\n",
      "                    : Auto-generated by YouTube.\r\n",
      "    synopsis        : Provided to YouTube by Universal Music Group\r\n",
      "                    : \r\n",
      "                    : Radio · Rammstein\r\n",
      "                    : \r\n",
      "                    : Rammstein\r\n",
      "                    : \r\n",
      "                    : ℗ A Vertigo/Capitol recording; ℗ 2019 RAMMSTEIN GBR, under exclusive license to Universal Music GmbH\r\n",
      "                    : \r\n",
      "                    : Released on: 2019-05-17\r\n",
      "                    : \r\n",
      "                    : Producer, Studio  Personnel, Recording  Engineer, Mixer, Associated  Performer, Programming: Olsen Involtini\r\n",
      "                    : Producer: Rammstein\r\n",
      "                    : Studio  Personnel, Recording  Engineer, Engineer: Tom Dalgety\r\n",
      "                    : Studio  Personnel, Asst.  Recording  Engineer: Daniel Cayotte\r\n",
      "                    : Studio  Personnel, Editor: Florian Ammon\r\n",
      "                    : Studio  Personnel, Recording  Engineer: Sky van Hoff\r\n",
      "                    : Studio  Personnel, Mastering  Engineer: Svante Forsbäck\r\n",
      "                    : Composer  Lyricist: RICHARD Z. KRUSPE\r\n",
      "                    : Composer  Lyricist: PAUL LANDERS\r\n",
      "                    : Composer  Lyricist: TILL LINDEMANN\r\n",
      "                    : Composer  Lyricist: DOKTOR CHRISTIAN LORENZ\r\n",
      "                    : Composer  Lyricist: OLIVER RIEDEL\r\n",
      "                    : Composer  Lyricist: CHRISTOPH DOOM SCHNEIDER\r\n",
      "                    : \r\n",
      "                    : Auto-generated by YouTube.\r\n",
      "  Duration: 00:04:37.42, start: 0.000000, bitrate: 129 kb/s\r\n",
      "  Stream #0:0[0x1](und): Audio: aac (libfdk_aac) (LC) (mp4a / 0x6134706D), 44100 Hz, stereo, s16, 128 kb/s (default)\r\n",
      "      Metadata:\r\n",
      "        handler_name    : SoundHandler\r\n",
      "        vendor_id       : [0][0][0][0]\r\n",
      "  Stream #0:1[0x0]: Video: mjpeg (Baseline), yuvj444p(pc, bt470bg/unknown/unknown), 544x544 [SAR 1:1 DAR 1:1], 90k tbr, 90k tbn (attached pic)\r\n",
      "Stream mapping:\r\n",
      "  Stream #0:0 -> #0:0 (aac (libfdk_aac) -> pcm_s16le (native))\r\n",
      "Press [q] to stop, [?] for help\r\n",
      "Output #0, wav, to './wav/RADIO-Rammstein.wav':\r\n",
      "  Metadata:\r\n",
      "    major_brand     : M4A \r\n",
      "    minor_version   : 512\r\n",
      "    compatible_brands: isomiso2\r\n",
      "    INAM            : Radio\r\n",
      "    IART            : Rammstein\r\n",
      "    IPRD            : Rammstein\r\n",
      "    ICRD            : 20220301\r\n",
      "    synopsis        : Provided to YouTube by Universal Music Group\r\n",
      "                    : \r\n",
      "                    : Radio · Rammstein\r\n",
      "                    : \r\n",
      "                    : Rammstein\r\n",
      "                    : \r\n",
      "                    : ℗ A Vertigo/Capitol recording; ℗ 2019 RAMMSTEIN GBR, under exclusive license to Universal Music GmbH\r\n",
      "                    : \r\n",
      "                    : Released on: 2019-05-17\r\n",
      "                    : \r\n",
      "                    : Producer, Studio  Personnel, Recording  Engineer, Mixer, Associated  Performer, Programming: Olsen Involtini\r\n",
      "                    : Producer: Rammstein\r\n",
      "                    : Studio  Personnel, Recording  Engineer, Engineer: Tom Dalgety\r\n",
      "                    : Studio  Personnel, Asst.  Recording  Engineer: Daniel Cayotte\r\n",
      "                    : Studio  Personnel, Editor: Florian Ammon\r\n",
      "                    : Studio  Personnel, Recording  Engineer: Sky van Hoff\r\n",
      "                    : Studio  Personnel, Mastering  Engineer: Svante Forsbäck\r\n",
      "                    : Composer  Lyricist: RICHARD Z. KRUSPE\r\n",
      "                    : Composer  Lyricist: PAUL LANDERS\r\n",
      "                    : Composer  Lyricist: TILL LINDEMANN\r\n",
      "                    : Composer  Lyricist: DOKTOR CHRISTIAN LORENZ\r\n",
      "                    : Composer  Lyricist: OLIVER RIEDEL\r\n",
      "                    : Composer  Lyricist: CHRISTOPH DOOM SCHNEIDER\r\n",
      "                    : \r\n",
      "                    : Auto-generated by YouTube.\r\n",
      "    ICMT            : https://www.youtube.com/watch?v=xR1cVBlFXIw\r\n",
      "    description     : Provided to YouTube by Universal Music Group\r\n",
      "                    : \r\n",
      "                    : Radio · Rammstein\r\n",
      "                    : \r\n",
      "                    : Rammstein\r\n",
      "                    : \r\n",
      "                    : ℗ A Vertigo/Capitol recording; ℗ 2019 RAMMSTEIN GBR, under exclusive license to Universal Music GmbH\r\n",
      "                    : \r\n",
      "                    : Released on: 2019-05-17\r\n",
      "                    : \r\n",
      "                    : Producer, Studio  Personnel, Recording  Engineer, Mixer, Associated  Performer, Programming: Olsen Involtini\r\n",
      "                    : Producer: Rammstein\r\n",
      "                    : Studio  Personnel, Recording  Engineer, Engineer: Tom Dalgety\r\n",
      "                    : Studio  Personnel, Asst.  Recording  Engineer: Daniel Cayotte\r\n",
      "                    : Studio  Personnel, Editor: Florian Ammon\r\n",
      "                    : Studio  Personnel, Recording  Engineer: Sky van Hoff\r\n",
      "                    : Studio  Personnel, Mastering  Engineer: Svante Forsbäck\r\n",
      "                    : Composer  Lyricist: RICHARD Z. KRUSPE\r\n",
      "                    : Composer  Lyricist: PAUL LANDERS\r\n",
      "                    : Composer  Lyricist: TILL LINDEMANN\r\n",
      "                    : Composer  Lyricist: DOKTOR CHRISTIAN LORENZ\r\n",
      "                    : Composer  Lyricist: OLIVER RIEDEL\r\n",
      "                    : Composer  Lyricist: CHRISTOPH DOOM SCHNEIDER\r\n",
      "                    : \r\n",
      "                    : Auto-generated by YouTube.\r\n",
      "    ISFT            : Lavf61.7.100\r\n",
      "  Stream #0:0(und): Audio: pcm_s16le ([1][0][0][0] / 0x0001), 44100 Hz, stereo, s16, 1411 kb/s (default)\r\n",
      "      Metadata:\r\n",
      "        handler_name    : SoundHandler\r\n",
      "        vendor_id       : [0][0][0][0]\r\n",
      "        encoder         : Lavc61.19.101 pcm_s16le\r\n",
      "\u001B[1;35m[out#0/wav @ 0x55a118e1b780] \u001B[0mvideo:0KiB audio:47792KiB subtitle:0KiB other streams:0KiB global headers:0KiB muxing overhead: 0.000405%\r\n",
      "size=   47792KiB time=00:04:37.41 bitrate=1411.3kbits/s speed= 500x    \r\n",
      "Converting './music/TimeinaBottle-JimCroce.m4a' to 'TimeinaBottle-JimCroce.wav'...\r\n",
      "ffmpeg version 7.1.1 Copyright (c) 2000-2025 the FFmpeg developers\r\n",
      "  built with gcc 14 (GCC)\r\n",
      "  configuration: --prefix=/usr --bindir=/usr/bin --datadir=/usr/share/ffmpeg --docdir=/usr/share/doc/ffmpeg --incdir=/usr/include/ffmpeg --libdir=/usr/lib64 --mandir=/usr/share/man --arch=x86_64 --optflags='-O2 -flto=auto -ffat-lto-objects -fexceptions -g -grecord-gcc-switches -pipe -Wall -Werror=format-security -Wp,-U_FORTIFY_SOURCE,-D_FORTIFY_SOURCE=3 -Wp,-D_GLIBCXX_ASSERTIONS -specs=/usr/lib/rpm/redhat/redhat-hardened-cc1 -fstack-protector-strong -specs=/usr/lib/rpm/redhat/redhat-annobin-cc1 -m64 -march=x86-64 -mtune=generic -fasynchronous-unwind-tables -fstack-clash-protection -fcf-protection -mtls-dialect=gnu2 -fno-omit-frame-pointer -mno-omit-leaf-frame-pointer ' --extra-ldflags='-Wl,-z,relro -Wl,--as-needed -Wl,-z,pack-relative-relocs -Wl,-z,now -specs=/usr/lib/rpm/redhat/redhat-hardened-ld -specs=/usr/lib/rpm/redhat/redhat-annobin-cc1 -Wl,--build-id=sha1 -specs=/usr/lib/rpm/redhat/redhat-package-notes ' --disable-htmlpages --enable-pic --disable-stripping --enable-shared --disable-static --enable-gpl --enable-version3 --enable-libsmbclient --disable-openssl --enable-bzlib --enable-frei0r --enable-chromaprint --enable-gcrypt --enable-gnutls --enable-ladspa --enable-lcms2 --enable-libshaderc --enable-vulkan --disable-cuda-sdk --enable-libaom --enable-libaribb24 --enable-libaribcaption --enable-libass --enable-libbluray --enable-libbs2b --enable-libcaca --enable-libcdio --enable-libcodec2 --enable-libdav1d --enable-libdc1394 --enable-libdvdnav --enable-libdvdread --enable-libfdk-aac --enable-libflite --enable-libfontconfig --enable-libfreetype --enable-libfribidi --enable-libharfbuzz --enable-libgme --enable-libgsm --enable-libiec61883 --enable-libilbc --enable-libjack --enable-libjxl --enable-liblc3 --enable-libmodplug --enable-libmp3lame --enable-libmysofa --enable-libopenh264 --enable-libopenjpeg --enable-libopenmpt --enable-libopus --enable-libplacebo --enable-libpulse --enable-libqrencode --enable-librabbitmq --enable-librav1e --enable-librist --enable-librsvg --enable-librubberband --enable-libsnappy --enable-libsvtav1 --enable-libsoxr --enable-libspeex --enable-libssh --enable-libsrt --enable-libtesseract --enable-libtheora --enable-libtwolame --enable-libvidstab --enable-libvmaf --enable-libvorbis --enable-libv4l2 --enable-libvpx --enable-libwebp --enable-libxml2 --enable-libzimg --enable-libzmq --enable-libzvbi --enable-lto --enable-libvpl --enable-lv2 --enable-vaapi --enable-vdpau --enable-libopencore-amrnb --enable-libopencore-amrwb --enable-libvo-amrwbenc --enable-libxvid --enable-openal --enable-opencl --enable-opengl --enable-pthreads --enable-vapoursynth --enable-muxers --enable-demuxers --enable-hwaccels --disable-encoders --disable-decoders --disable-decoder='h264,hevc,libxevd,vc1,vvc' --enable-encoder=',a64multi,a64multi5,aac,libfdk_aac,ac3,adpcm_adx,adpcm_argo,adpcm_g722,adpcm_g726,adpcm_g726le,adpcm_ima_alp,adpcm_ima_amv,adpcm_ima_apm,adpcm_ima_qt,adpcm_ima_ssi,adpcm_ima_wav,adpcm_ima_ws,adpcm_ms,adpcm_swf,adpcm_yamaha,alac,alias_pix,amv,anull,apng,ass,asv1,asv2,av1_amf,av1_nvenc,av1_qsv,av1_vaapi,bitpacked,bmp,cinepak,cljr,dca,dfpwm,dnxhd,dpx,dvbsub,dvdsub,dvvideo,exr,ffv1,ffvhuff,flac,flashsv,flashsv2,flv,g723_1,gif,h261,h263,h263_v4l2m2m,h263p,h264_amf,h264_nvenc,h264_qsv,h264_v4l2m2m,h264_vaapi,hap,hdr,hevc_amf,hevc_nvenc,hevc_qsv,hevc_v4l2m2m,hevc_vaapi,huffyuv,ilbc,jpeg2000,jpegls,libaom,libaom_av1,libcodec2,libgsm,libgsm_ms,libilbc,libjxl,liblc3,libmp3lame,libopencore_amrnb,libopenh264,libopenjpeg,libopus,librav1e,libspeex,libsvtav1,libtheora,libtwolame,libvo_amrwbenc,libvorbis,libvpx_vp8,libvpx_vp9,libwebp,libwebp_anim,libxvid,mjpeg,mjpeg_qsv,mjpeg_vaapi,mlp,mp2,mp2fixed,mpeg1video,mpeg2_qsv,mpeg2_vaapi,mpeg2video,mpeg4,mpeg4_v4l2m2m,msmpeg4v2,msmpeg4v3,msvideo1,nellymoser,opus,pam,pbm,pcm_alaw,pcm_f32be,pcm_f32le,pcm_f64be,pcm_f64le,pcm_mulaw,pcm_s16be,pcm_s16be_planar,pcm_s16le,pcm_s16le_planar,pcm_s24be,pcm_s24le,pcm_s24le_planar,pcm_s32be,pcm_s32le,pcm_s32le_planar,pcm_s8,pcm_s8_planar,pcm_u16be,pcm_u16le,pcm_u24be,pcm_u24le,pcm_u32be,pcm_u32le,pcm_u8,pcx,pgm,pgmyuv,phm,png,ppm,qoi,qtrle,r10k,r210,ra_144,rawvideo,roq,roq_dpcm,rpza,rv10,rv20,s302m,sbc,sgi,smc,snow,sonic,sonic_ls,speedhq,srt,ssa,subrip,sunrast,svq1,targa,text,tiff,truehd,tta,ttml,utvideo,v210,v308,v408,v410,vc1_qsv,vc1_v4l2m2m,vc2,vnull,vorbis,vp8_qsv,vp8_v4l2m2m,vp8_vaapi,vp9_qsv,vp9_vaapi,wavpack,wbmp,webvtt,wmav1,wmav2,wmv1,wmv2,wrapped_avframe,xbm,xface,xsub,xwd,y41p,yuv4,zlib,zmbv,' --enable-decoder=',aasc,libfdk_aac,ac3,acelp_kelvin,adpcm_4xm,adpcm_adx,adpcm_afc,adpcm_agm,adpcm_aica,adpcm_argo,adpcm_ct,adpcm_dtk,adpcm_ea,adpcm_ea_maxis_xa,adpcm_ea_r1,adpcm_ea_r2,adpcm_ea_r3,adpcm_ea_xas,adpcm_g722,adpcm_g726,adpcm_g726le,adpcm_ima_acorn,adpcm_ima_alp,adpcm_ima_amv,adpcm_ima_apc,adpcm_ima_apm,adpcm_ima_cunning,adpcm_ima_dat4,adpcm_ima_dk3,adpcm_ima_dk4,adpcm_ima_ea_eacs,adpcm_ima_ea_sead,adpcm_ima_iss,adpcm_ima_moflex,adpcm_ima_mtf,adpcm_ima_oki,adpcm_ima_qt,adpcm_ima_qt_at,adpcm_ima_rad,adpcm_ima_smjpeg,adpcm_ima_ssi,adpcm_ima_wav,adpcm_ima_ws,adpcm_ms,adpcm_mtaf,adpcm_psx,adpcm_sbpro_2,adpcm_sbpro_3,adpcm_sbpro_4,adpcm_swf,adpcm_thp,adpcm_thp_le,adpcm_vima,adpcm_xa,adpcm_xmd,adpcm_yamaha,adpcm_zork,alac,alias_pix,amrnb,amrwb,amv,anm,ansi,anull,apac,ape,apng,arbc,argo,ass,asv1,asv2,atrac1,atrac3,atrac3al,atrac3p,atrac3pal,aura,aura2,av1,av1_qsv,bethsoftvid,bfi,bink,binkaudio_dct,binkaudio_rdft,bintext,bitpacked,bmp,bmv_audio,bmv_video,bonk,brender_pix,c93,cbd2_dpcm,ccaption,cdgraphics,cdtoons,cdxl,cinepak,clearvideo,cljr,cook,cpia,cscd,cyuv,dca,dds,derf_dpcm,dfa,dfpwm,dirac,dnxhd,dolby_e,dpx,dsd_lsbf,dsd_msbf,dsicinaudio,dsicinvideo,dss_sp,dvaudio,dvbsub,dvdsub,dvvideo,dxa,dxtory,eacmv,eamad,eatgq,eatgv,eatqi,eightbps,eightsvx_exp,eightsvx_fib,escape124,escape130,evrc,exr,ffv1,ffvhuff,ffwavesynth,fits,flac,flashsv,flashsv2,flic,flv,fmvc,fourxm,ftr,g723_1,g729,gdv,gem,gif,gremlin_dpcm,gsm,gsm_ms,gsm_ms_at,h261,h263,h263_v4l2m2m,h263i,h263p,hap,hca,hcom,hdr,hnm4_video,hq_hqa,hqx,huffyuv,hymt,iac,idcin,idf,iff_ilbm,ilbc,imc,indeo2,indeo3,indeo4,indeo5,interplay_acm,interplay_dpcm,interplay_video,ipu,jacosub,jpeg2000,jpegls,jv,kgv1,kmvc,lagarith,libaribb24,libaribcaption,libaom,libaom_av1,libcodec2,libdav1d,libgsm,libgsm_ms,libilbc,libjxl,liblc3,libopencore_amrnb,libopencore_amrwb,libopenh264,libopenjpeg,libopus,librsvg,libschroedinger,libspeex,libvorbis,libvpx_vp8,libvpx_vp9,libzvbi_teletext,loco,lscr,m101,mace3,mace6,mdec,media100,metasound,microdvd,mimic,misc4,mjpeg,mjpeg_qsv,mjpegb,mlp,mmvideo,motionpixels,mp1,mp1float,mp2,mp2float,mp3,mp3adu,mp3adufloat,mp3float,mp3on4,mp3on4float,mpc7,mpc8,mpeg1_v4l2m2m,mpeg1video,mpeg2_qsv,mpeg2_v4l2m2m,mpeg2video,mpeg4,mpeg4_v4l2m2m,mpegvideo,mpl2,msa1,mscc,msmpeg4v1,msmpeg4v2,msmpeg4v3,msnsiren,msp2,msrle,mss1,mss2,msvideo1,mszh,mts2,mv30,mvc1,mvc2,mvdv,mvha,mwsc,mxpeg,nellymoser,nuv,on2avc,opus,paf_audio,paf_video,pam,pbm,pcm_alaw,pcm_bluray,pcm_dvd,pcm_f16le,pcm_f24le,pcm_f32be,pcm_f32le,pcm_f64be,pcm_f64le,pcm_lxf,pcm_mulaw,pcm_s16be,pcm_s16be_planar,pcm_s16le,pcm_s16le_planar,pcm_s24be,pcm_s24daud,pcm_s24le,pcm_s24le_planar,pcm_s32be,pcm_s32le,pcm_s32le_planar,pcm_s64be,pcm_s64le,pcm_s8,pcm_s8_planar,pcm_sga,pcm_u16be,pcm_u16le,pcm_u24be,pcm_u24le,pcm_u32be,pcm_u32le,pcm_u8,pcm_vidc,pcx,pfm,pgm,pgmyuv,pgssub,pgx,phm,photocd,pictor,pjs,png,ppm,prosumer,psd,ptx,qcelp,qdm2,qdmc,qdraw,qoa,qoi,qpeg,qtrle,r10k,r210,ra_144,ra_288,rasc,rawvideo,realtext,rka,rl2,roq,roq_dpcm,rpza,rscc,rv10,rv20,s302m,sami,sanm,sbc,screenpresso,sdx2_dpcm,sgi,sgirle,shorten,simbiosis_imx,sipr,siren,smackaud,smacker,smc,smvjpeg,snow,sol_dpcm,sonic,sp5x,speedhq,speex,srgc,srt,ssa,stl,subrip,subviewer,subviewer1,sunrast,svq1,svq3,tak,targa,targa_y216,tdsc,text,theora,thp,tiertexseqvideo,tiff,tmv,truehd,truemotion1,truemotion2,truemotion2rt,truespeech,tscc,tscc2,tta,twinvq,txd,ulti,utvideo,v210,v210x,v308,v408,v410,vb,vble,vcr1,vmdaudio,vmdvideo,vmnc,vnull,vorbis,vp3,vp4,vp5,vp6,vp6a,vp6f,vp7,vp8,vp8_qsv,vp8_v4l2m2m,vp9,vp9_qsv,vp9_v4l2m2m,vplayer,vqa,vqc,wady_dpcm,wavarc,wavpack,wbmp,wcmv,webp,webvtt,wmav1,wmav2,wmavoice,wmv1,wmv2,wnv1,wrapped_avframe,ws_snd1,xan_dpcm,xan_wc3,xan_wc4,xbin,xbm,xface,xl,xpm,xsub,xwd,y41p,ylc,yop,yuv4,zero12v,zerocodec,zlib,zmbv,'\r\n",
      "  libavutil      59. 39.100 / 59. 39.100\r\n",
      "  libavcodec     61. 19.101 / 61. 19.101\r\n",
      "  libavformat    61.  7.100 / 61.  7.100\r\n",
      "  libavdevice    61.  3.100 / 61.  3.100\r\n",
      "  libavfilter    10.  4.100 / 10.  4.100\r\n",
      "  libswscale      8.  3.100 /  8.  3.100\r\n",
      "  libswresample   5.  3.100 /  5.  3.100\r\n",
      "  libpostproc    58.  3.100 / 58.  3.100\r\n",
      "\u001B[0;35m[mov,mp4,m4a,3gp,3g2,mj2 @ 0x557baecdaa40] \u001B[0m\u001B[0;33mstream 0, timescale not set\r\n",
      "\u001B[0mInput #0, mov,mp4,m4a,3gp,3g2,mj2, from './music/TimeinaBottle-JimCroce.m4a':\r\n",
      "  Metadata:\r\n",
      "    major_brand     : M4A \r\n",
      "    minor_version   : 512\r\n",
      "    compatible_brands: M4A isomiso2\r\n",
      "    title           : Time in a Bottle\r\n",
      "    artist          : Jim Croce\r\n",
      "    album           : The Very Best of Jim Croce\r\n",
      "    date            : 20230417\r\n",
      "    encoder         : Lavf58.45.100\r\n",
      "    comment         : https://www.youtube.com/watch?v=wNBiH-H5kTw\r\n",
      "    description     : Provided to YouTube by Diamond Records\r\n",
      "                    : \r\n",
      "                    : Time in a Bottle · Jim Croce\r\n",
      "                    : \r\n",
      "                    : The Very Best of Jim Croce\r\n",
      "                    : \r\n",
      "                    : ℗ Diamond Records\r\n",
      "                    : \r\n",
      "                    : Released on: 2023-03-30\r\n",
      "                    : \r\n",
      "                    : Composer: James Joseph Croce\r\n",
      "                    : Lyricist: James Joseph Croce\r\n",
      "                    : \r\n",
      "                    : Auto-generated by YouTube.\r\n",
      "    synopsis        : Provided to YouTube by Diamond Records\r\n",
      "                    : \r\n",
      "                    : Time in a Bottle · Jim Croce\r\n",
      "                    : \r\n",
      "                    : The Very Best of Jim Croce\r\n",
      "                    : \r\n",
      "                    : ℗ Diamond Records\r\n",
      "                    : \r\n",
      "                    : Released on: 2023-03-30\r\n",
      "                    : \r\n",
      "                    : Composer: James Joseph Croce\r\n",
      "                    : Lyricist: James Joseph Croce\r\n",
      "                    : \r\n",
      "                    : Auto-generated by YouTube.\r\n",
      "  Duration: 00:02:26.83, start: 0.000000, bitrate: 133 kb/s\r\n",
      "  Stream #0:0[0x1](und): Audio: aac (libfdk_aac) (LC) (mp4a / 0x6134706D), 44100 Hz, stereo, s16, 128 kb/s (default)\r\n",
      "      Metadata:\r\n",
      "        handler_name    : ISO Media file produced by Google Inc.\r\n",
      "        vendor_id       : [0][0][0][0]\r\n",
      "  Stream #0:1[0x0]: Video: mjpeg (Baseline), yuvj444p(pc, bt470bg/unknown/unknown), 544x544 [SAR 1:1 DAR 1:1], 90k tbr, 90k tbn (attached pic)\r\n",
      "Stream mapping:\r\n",
      "  Stream #0:0 -> #0:0 (aac (libfdk_aac) -> pcm_s16le (native))\r\n",
      "Press [q] to stop, [?] for help\r\n",
      "Output #0, wav, to './wav/TimeinaBottle-JimCroce.wav':\r\n",
      "  Metadata:\r\n",
      "    major_brand     : M4A \r\n",
      "    minor_version   : 512\r\n",
      "    compatible_brands: M4A isomiso2\r\n",
      "    INAM            : Time in a Bottle\r\n",
      "    IART            : Jim Croce\r\n",
      "    IPRD            : The Very Best of Jim Croce\r\n",
      "    ICRD            : 20230417\r\n",
      "    synopsis        : Provided to YouTube by Diamond Records\r\n",
      "                    : \r\n",
      "                    : Time in a Bottle · Jim Croce\r\n",
      "                    : \r\n",
      "                    : The Very Best of Jim Croce\r\n",
      "                    : \r\n",
      "                    : ℗ Diamond Records\r\n",
      "                    : \r\n",
      "                    : Released on: 2023-03-30\r\n",
      "                    : \r\n",
      "                    : Composer: James Joseph Croce\r\n",
      "                    : Lyricist: James Joseph Croce\r\n",
      "                    : \r\n",
      "                    : Auto-generated by YouTube.\r\n",
      "    ICMT            : https://www.youtube.com/watch?v=wNBiH-H5kTw\r\n",
      "    description     : Provided to YouTube by Diamond Records\r\n",
      "                    : \r\n",
      "                    : Time in a Bottle · Jim Croce\r\n",
      "                    : \r\n",
      "                    : The Very Best of Jim Croce\r\n",
      "                    : \r\n",
      "                    : ℗ Diamond Records\r\n",
      "                    : \r\n",
      "                    : Released on: 2023-03-30\r\n",
      "                    : \r\n",
      "                    : Composer: James Joseph Croce\r\n",
      "                    : Lyricist: James Joseph Croce\r\n",
      "                    : \r\n",
      "                    : Auto-generated by YouTube.\r\n",
      "    ISFT            : Lavf61.7.100\r\n",
      "  Stream #0:0(und): Audio: pcm_s16le ([1][0][0][0] / 0x0001), 44100 Hz, stereo, s16, 1411 kb/s (default)\r\n",
      "      Metadata:\r\n",
      "        handler_name    : ISO Media file produced by Google Inc.\r\n",
      "        vendor_id       : [0][0][0][0]\r\n",
      "        encoder         : Lavc61.19.101 pcm_s16le\r\n",
      "\u001B[1;35m[out#0/wav @ 0x557baed72380] \u001B[0mvideo:0KiB audio:25300KiB subtitle:0KiB other streams:0KiB global headers:0KiB muxing overhead: 0.000880%\r\n",
      "size=   25300KiB time=00:02:26.82 bitrate=1411.6kbits/s speed= 528x    \r\n",
      "Converting './music/YoureintheArmyNow-BollandBolland.m4a' to 'YoureintheArmyNow-BollandBolland.wav'...\r\n",
      "ffmpeg version 7.1.1 Copyright (c) 2000-2025 the FFmpeg developers\r\n",
      "  built with gcc 14 (GCC)\r\n",
      "  configuration: --prefix=/usr --bindir=/usr/bin --datadir=/usr/share/ffmpeg --docdir=/usr/share/doc/ffmpeg --incdir=/usr/include/ffmpeg --libdir=/usr/lib64 --mandir=/usr/share/man --arch=x86_64 --optflags='-O2 -flto=auto -ffat-lto-objects -fexceptions -g -grecord-gcc-switches -pipe -Wall -Werror=format-security -Wp,-U_FORTIFY_SOURCE,-D_FORTIFY_SOURCE=3 -Wp,-D_GLIBCXX_ASSERTIONS -specs=/usr/lib/rpm/redhat/redhat-hardened-cc1 -fstack-protector-strong -specs=/usr/lib/rpm/redhat/redhat-annobin-cc1 -m64 -march=x86-64 -mtune=generic -fasynchronous-unwind-tables -fstack-clash-protection -fcf-protection -mtls-dialect=gnu2 -fno-omit-frame-pointer -mno-omit-leaf-frame-pointer ' --extra-ldflags='-Wl,-z,relro -Wl,--as-needed -Wl,-z,pack-relative-relocs -Wl,-z,now -specs=/usr/lib/rpm/redhat/redhat-hardened-ld -specs=/usr/lib/rpm/redhat/redhat-annobin-cc1 -Wl,--build-id=sha1 -specs=/usr/lib/rpm/redhat/redhat-package-notes ' --disable-htmlpages --enable-pic --disable-stripping --enable-shared --disable-static --enable-gpl --enable-version3 --enable-libsmbclient --disable-openssl --enable-bzlib --enable-frei0r --enable-chromaprint --enable-gcrypt --enable-gnutls --enable-ladspa --enable-lcms2 --enable-libshaderc --enable-vulkan --disable-cuda-sdk --enable-libaom --enable-libaribb24 --enable-libaribcaption --enable-libass --enable-libbluray --enable-libbs2b --enable-libcaca --enable-libcdio --enable-libcodec2 --enable-libdav1d --enable-libdc1394 --enable-libdvdnav --enable-libdvdread --enable-libfdk-aac --enable-libflite --enable-libfontconfig --enable-libfreetype --enable-libfribidi --enable-libharfbuzz --enable-libgme --enable-libgsm --enable-libiec61883 --enable-libilbc --enable-libjack --enable-libjxl --enable-liblc3 --enable-libmodplug --enable-libmp3lame --enable-libmysofa --enable-libopenh264 --enable-libopenjpeg --enable-libopenmpt --enable-libopus --enable-libplacebo --enable-libpulse --enable-libqrencode --enable-librabbitmq --enable-librav1e --enable-librist --enable-librsvg --enable-librubberband --enable-libsnappy --enable-libsvtav1 --enable-libsoxr --enable-libspeex --enable-libssh --enable-libsrt --enable-libtesseract --enable-libtheora --enable-libtwolame --enable-libvidstab --enable-libvmaf --enable-libvorbis --enable-libv4l2 --enable-libvpx --enable-libwebp --enable-libxml2 --enable-libzimg --enable-libzmq --enable-libzvbi --enable-lto --enable-libvpl --enable-lv2 --enable-vaapi --enable-vdpau --enable-libopencore-amrnb --enable-libopencore-amrwb --enable-libvo-amrwbenc --enable-libxvid --enable-openal --enable-opencl --enable-opengl --enable-pthreads --enable-vapoursynth --enable-muxers --enable-demuxers --enable-hwaccels --disable-encoders --disable-decoders --disable-decoder='h264,hevc,libxevd,vc1,vvc' --enable-encoder=',a64multi,a64multi5,aac,libfdk_aac,ac3,adpcm_adx,adpcm_argo,adpcm_g722,adpcm_g726,adpcm_g726le,adpcm_ima_alp,adpcm_ima_amv,adpcm_ima_apm,adpcm_ima_qt,adpcm_ima_ssi,adpcm_ima_wav,adpcm_ima_ws,adpcm_ms,adpcm_swf,adpcm_yamaha,alac,alias_pix,amv,anull,apng,ass,asv1,asv2,av1_amf,av1_nvenc,av1_qsv,av1_vaapi,bitpacked,bmp,cinepak,cljr,dca,dfpwm,dnxhd,dpx,dvbsub,dvdsub,dvvideo,exr,ffv1,ffvhuff,flac,flashsv,flashsv2,flv,g723_1,gif,h261,h263,h263_v4l2m2m,h263p,h264_amf,h264_nvenc,h264_qsv,h264_v4l2m2m,h264_vaapi,hap,hdr,hevc_amf,hevc_nvenc,hevc_qsv,hevc_v4l2m2m,hevc_vaapi,huffyuv,ilbc,jpeg2000,jpegls,libaom,libaom_av1,libcodec2,libgsm,libgsm_ms,libilbc,libjxl,liblc3,libmp3lame,libopencore_amrnb,libopenh264,libopenjpeg,libopus,librav1e,libspeex,libsvtav1,libtheora,libtwolame,libvo_amrwbenc,libvorbis,libvpx_vp8,libvpx_vp9,libwebp,libwebp_anim,libxvid,mjpeg,mjpeg_qsv,mjpeg_vaapi,mlp,mp2,mp2fixed,mpeg1video,mpeg2_qsv,mpeg2_vaapi,mpeg2video,mpeg4,mpeg4_v4l2m2m,msmpeg4v2,msmpeg4v3,msvideo1,nellymoser,opus,pam,pbm,pcm_alaw,pcm_f32be,pcm_f32le,pcm_f64be,pcm_f64le,pcm_mulaw,pcm_s16be,pcm_s16be_planar,pcm_s16le,pcm_s16le_planar,pcm_s24be,pcm_s24le,pcm_s24le_planar,pcm_s32be,pcm_s32le,pcm_s32le_planar,pcm_s8,pcm_s8_planar,pcm_u16be,pcm_u16le,pcm_u24be,pcm_u24le,pcm_u32be,pcm_u32le,pcm_u8,pcx,pgm,pgmyuv,phm,png,ppm,qoi,qtrle,r10k,r210,ra_144,rawvideo,roq,roq_dpcm,rpza,rv10,rv20,s302m,sbc,sgi,smc,snow,sonic,sonic_ls,speedhq,srt,ssa,subrip,sunrast,svq1,targa,text,tiff,truehd,tta,ttml,utvideo,v210,v308,v408,v410,vc1_qsv,vc1_v4l2m2m,vc2,vnull,vorbis,vp8_qsv,vp8_v4l2m2m,vp8_vaapi,vp9_qsv,vp9_vaapi,wavpack,wbmp,webvtt,wmav1,wmav2,wmv1,wmv2,wrapped_avframe,xbm,xface,xsub,xwd,y41p,yuv4,zlib,zmbv,' --enable-decoder=',aasc,libfdk_aac,ac3,acelp_kelvin,adpcm_4xm,adpcm_adx,adpcm_afc,adpcm_agm,adpcm_aica,adpcm_argo,adpcm_ct,adpcm_dtk,adpcm_ea,adpcm_ea_maxis_xa,adpcm_ea_r1,adpcm_ea_r2,adpcm_ea_r3,adpcm_ea_xas,adpcm_g722,adpcm_g726,adpcm_g726le,adpcm_ima_acorn,adpcm_ima_alp,adpcm_ima_amv,adpcm_ima_apc,adpcm_ima_apm,adpcm_ima_cunning,adpcm_ima_dat4,adpcm_ima_dk3,adpcm_ima_dk4,adpcm_ima_ea_eacs,adpcm_ima_ea_sead,adpcm_ima_iss,adpcm_ima_moflex,adpcm_ima_mtf,adpcm_ima_oki,adpcm_ima_qt,adpcm_ima_qt_at,adpcm_ima_rad,adpcm_ima_smjpeg,adpcm_ima_ssi,adpcm_ima_wav,adpcm_ima_ws,adpcm_ms,adpcm_mtaf,adpcm_psx,adpcm_sbpro_2,adpcm_sbpro_3,adpcm_sbpro_4,adpcm_swf,adpcm_thp,adpcm_thp_le,adpcm_vima,adpcm_xa,adpcm_xmd,adpcm_yamaha,adpcm_zork,alac,alias_pix,amrnb,amrwb,amv,anm,ansi,anull,apac,ape,apng,arbc,argo,ass,asv1,asv2,atrac1,atrac3,atrac3al,atrac3p,atrac3pal,aura,aura2,av1,av1_qsv,bethsoftvid,bfi,bink,binkaudio_dct,binkaudio_rdft,bintext,bitpacked,bmp,bmv_audio,bmv_video,bonk,brender_pix,c93,cbd2_dpcm,ccaption,cdgraphics,cdtoons,cdxl,cinepak,clearvideo,cljr,cook,cpia,cscd,cyuv,dca,dds,derf_dpcm,dfa,dfpwm,dirac,dnxhd,dolby_e,dpx,dsd_lsbf,dsd_msbf,dsicinaudio,dsicinvideo,dss_sp,dvaudio,dvbsub,dvdsub,dvvideo,dxa,dxtory,eacmv,eamad,eatgq,eatgv,eatqi,eightbps,eightsvx_exp,eightsvx_fib,escape124,escape130,evrc,exr,ffv1,ffvhuff,ffwavesynth,fits,flac,flashsv,flashsv2,flic,flv,fmvc,fourxm,ftr,g723_1,g729,gdv,gem,gif,gremlin_dpcm,gsm,gsm_ms,gsm_ms_at,h261,h263,h263_v4l2m2m,h263i,h263p,hap,hca,hcom,hdr,hnm4_video,hq_hqa,hqx,huffyuv,hymt,iac,idcin,idf,iff_ilbm,ilbc,imc,indeo2,indeo3,indeo4,indeo5,interplay_acm,interplay_dpcm,interplay_video,ipu,jacosub,jpeg2000,jpegls,jv,kgv1,kmvc,lagarith,libaribb24,libaribcaption,libaom,libaom_av1,libcodec2,libdav1d,libgsm,libgsm_ms,libilbc,libjxl,liblc3,libopencore_amrnb,libopencore_amrwb,libopenh264,libopenjpeg,libopus,librsvg,libschroedinger,libspeex,libvorbis,libvpx_vp8,libvpx_vp9,libzvbi_teletext,loco,lscr,m101,mace3,mace6,mdec,media100,metasound,microdvd,mimic,misc4,mjpeg,mjpeg_qsv,mjpegb,mlp,mmvideo,motionpixels,mp1,mp1float,mp2,mp2float,mp3,mp3adu,mp3adufloat,mp3float,mp3on4,mp3on4float,mpc7,mpc8,mpeg1_v4l2m2m,mpeg1video,mpeg2_qsv,mpeg2_v4l2m2m,mpeg2video,mpeg4,mpeg4_v4l2m2m,mpegvideo,mpl2,msa1,mscc,msmpeg4v1,msmpeg4v2,msmpeg4v3,msnsiren,msp2,msrle,mss1,mss2,msvideo1,mszh,mts2,mv30,mvc1,mvc2,mvdv,mvha,mwsc,mxpeg,nellymoser,nuv,on2avc,opus,paf_audio,paf_video,pam,pbm,pcm_alaw,pcm_bluray,pcm_dvd,pcm_f16le,pcm_f24le,pcm_f32be,pcm_f32le,pcm_f64be,pcm_f64le,pcm_lxf,pcm_mulaw,pcm_s16be,pcm_s16be_planar,pcm_s16le,pcm_s16le_planar,pcm_s24be,pcm_s24daud,pcm_s24le,pcm_s24le_planar,pcm_s32be,pcm_s32le,pcm_s32le_planar,pcm_s64be,pcm_s64le,pcm_s8,pcm_s8_planar,pcm_sga,pcm_u16be,pcm_u16le,pcm_u24be,pcm_u24le,pcm_u32be,pcm_u32le,pcm_u8,pcm_vidc,pcx,pfm,pgm,pgmyuv,pgssub,pgx,phm,photocd,pictor,pjs,png,ppm,prosumer,psd,ptx,qcelp,qdm2,qdmc,qdraw,qoa,qoi,qpeg,qtrle,r10k,r210,ra_144,ra_288,rasc,rawvideo,realtext,rka,rl2,roq,roq_dpcm,rpza,rscc,rv10,rv20,s302m,sami,sanm,sbc,screenpresso,sdx2_dpcm,sgi,sgirle,shorten,simbiosis_imx,sipr,siren,smackaud,smacker,smc,smvjpeg,snow,sol_dpcm,sonic,sp5x,speedhq,speex,srgc,srt,ssa,stl,subrip,subviewer,subviewer1,sunrast,svq1,svq3,tak,targa,targa_y216,tdsc,text,theora,thp,tiertexseqvideo,tiff,tmv,truehd,truemotion1,truemotion2,truemotion2rt,truespeech,tscc,tscc2,tta,twinvq,txd,ulti,utvideo,v210,v210x,v308,v408,v410,vb,vble,vcr1,vmdaudio,vmdvideo,vmnc,vnull,vorbis,vp3,vp4,vp5,vp6,vp6a,vp6f,vp7,vp8,vp8_qsv,vp8_v4l2m2m,vp9,vp9_qsv,vp9_v4l2m2m,vplayer,vqa,vqc,wady_dpcm,wavarc,wavpack,wbmp,wcmv,webp,webvtt,wmav1,wmav2,wmavoice,wmv1,wmv2,wnv1,wrapped_avframe,ws_snd1,xan_dpcm,xan_wc3,xan_wc4,xbin,xbm,xface,xl,xpm,xsub,xwd,y41p,ylc,yop,yuv4,zero12v,zerocodec,zlib,zmbv,'\r\n",
      "  libavutil      59. 39.100 / 59. 39.100\r\n",
      "  libavcodec     61. 19.101 / 61. 19.101\r\n",
      "  libavformat    61.  7.100 / 61.  7.100\r\n",
      "  libavdevice    61.  3.100 / 61.  3.100\r\n",
      "  libavfilter    10.  4.100 / 10.  4.100\r\n",
      "  libswscale      8.  3.100 /  8.  3.100\r\n",
      "  libswresample   5.  3.100 /  5.  3.100\r\n",
      "  libpostproc    58.  3.100 / 58.  3.100\r\n",
      "\u001B[0;35m[mov,mp4,m4a,3gp,3g2,mj2 @ 0x5641f2b28a40] \u001B[0m\u001B[0;33mstream 0, timescale not set\r\n",
      "\u001B[0mInput #0, mov,mp4,m4a,3gp,3g2,mj2, from './music/YoureintheArmyNow-BollandBolland.m4a':\r\n",
      "  Metadata:\r\n",
      "    major_brand     : M4A \r\n",
      "    minor_version   : 512\r\n",
      "    compatible_brands: isomiso2\r\n",
      "    title           : You're in the Army Now\r\n",
      "    artist          : Bolland & Bolland\r\n",
      "    album           : Essential 80's Pop & Rock\r\n",
      "    date            : 20150822\r\n",
      "    encoder         : Lavf57.83.100\r\n",
      "    comment         : Provided to YouTube by The Orchard Enterprises\r\n",
      "                    : \r\n",
      "                    : You're in the Army Now · Bolland & Bolland\r\n",
      "                    : \r\n",
      "                    : Essential 80's Pop & Rock\r\n",
      "                    : \r\n",
      "                    : ℗ 2014 Piros Comercial Digital\r\n",
      "                    : \r\n",
      "                    : Released on: 2014-05-27\r\n",
      "                    : \r\n",
      "                    : Auto-generated by YouTube.\r\n",
      "    description     : Provided to YouTube by The Orchard Enterprises\r\n",
      "                    : \r\n",
      "                    : You're in the Army Now · Bolland & Bolland\r\n",
      "                    : \r\n",
      "                    : Essential 80's Pop & Rock\r\n",
      "                    : \r\n",
      "                    : ℗ 2014 Piros Comercial Digital\r\n",
      "                    : \r\n",
      "                    : Released on: 2014-05-27\r\n",
      "                    : \r\n",
      "                    : Auto-generated by YouTube.\r\n",
      "  Duration: 00:04:20.06, start: 0.000000, bitrate: 129 kb/s\r\n",
      "  Stream #0:0[0x1](und): Audio: aac (libfdk_aac) (LC) (mp4a / 0x6134706D), 44100 Hz, stereo, s16, 125 kb/s (default)\r\n",
      "      Metadata:\r\n",
      "        handler_name    : SoundHandler\r\n",
      "        vendor_id       : [0][0][0][0]\r\n",
      "  Stream #0:1[0x0]: Video: mjpeg (Baseline), yuvj444p(pc, bt470bg/unknown/unknown), 544x544 [SAR 1:1 DAR 1:1], 90k tbr, 90k tbn (attached pic)\r\n",
      "Stream mapping:\r\n",
      "  Stream #0:0 -> #0:0 (aac (libfdk_aac) -> pcm_s16le (native))\r\n",
      "Press [q] to stop, [?] for help\r\n",
      "Output #0, wav, to './wav/YoureintheArmyNow-BollandBolland.wav':\r\n",
      "  Metadata:\r\n",
      "    major_brand     : M4A \r\n",
      "    minor_version   : 512\r\n",
      "    compatible_brands: isomiso2\r\n",
      "    INAM            : You're in the Army Now\r\n",
      "    IART            : Bolland & Bolland\r\n",
      "    IPRD            : Essential 80's Pop & Rock\r\n",
      "    ICRD            : 20150822\r\n",
      "    description     : Provided to YouTube by The Orchard Enterprises\r\n",
      "                    : \r\n",
      "                    : You're in the Army Now · Bolland & Bolland\r\n",
      "                    : \r\n",
      "                    : Essential 80's Pop & Rock\r\n",
      "                    : \r\n",
      "                    : ℗ 2014 Piros Comercial Digital\r\n",
      "                    : \r\n",
      "                    : Released on: 2014-05-27\r\n",
      "                    : \r\n",
      "                    : Auto-generated by YouTube.\r\n",
      "    ICMT            : Provided to YouTube by The Orchard Enterprises\r\n",
      "                    : \r\n",
      "                    : You're in the Army Now · Bolland & Bolland\r\n",
      "                    : \r\n",
      "                    : Essential 80's Pop & Rock\r\n",
      "                    : \r\n",
      "                    : ℗ 2014 Piros Comercial Digital\r\n",
      "                    : \r\n",
      "                    : Released on: 2014-05-27\r\n",
      "                    : \r\n",
      "                    : Auto-generated by YouTube.\r\n",
      "    ISFT            : Lavf61.7.100\r\n",
      "  Stream #0:0(und): Audio: pcm_s16le ([1][0][0][0] / 0x0001), 44100 Hz, stereo, s16, 1411 kb/s (default)\r\n",
      "      Metadata:\r\n",
      "        handler_name    : SoundHandler\r\n",
      "        vendor_id       : [0][0][0][0]\r\n",
      "        encoder         : Lavc61.19.101 pcm_s16le\r\n",
      "\u001B[1;35m[out#0/wav @ 0x5641f2c39e40] \u001B[0mvideo:0KiB audio:44800KiB subtitle:0KiB other streams:0KiB global headers:0KiB muxing overhead: 0.000876%\r\n",
      "size=   44800KiB time=00:04:20.05 bitrate=1411.3kbits/s speed= 516x    \r\n",
      "Converting './music/Радио-RADIOTAPOK.m4a' to 'Радио-RADIOTAPOK.wav'...\r\n",
      "ffmpeg version 7.1.1 Copyright (c) 2000-2025 the FFmpeg developers\r\n",
      "  built with gcc 14 (GCC)\r\n",
      "  configuration: --prefix=/usr --bindir=/usr/bin --datadir=/usr/share/ffmpeg --docdir=/usr/share/doc/ffmpeg --incdir=/usr/include/ffmpeg --libdir=/usr/lib64 --mandir=/usr/share/man --arch=x86_64 --optflags='-O2 -flto=auto -ffat-lto-objects -fexceptions -g -grecord-gcc-switches -pipe -Wall -Werror=format-security -Wp,-U_FORTIFY_SOURCE,-D_FORTIFY_SOURCE=3 -Wp,-D_GLIBCXX_ASSERTIONS -specs=/usr/lib/rpm/redhat/redhat-hardened-cc1 -fstack-protector-strong -specs=/usr/lib/rpm/redhat/redhat-annobin-cc1 -m64 -march=x86-64 -mtune=generic -fasynchronous-unwind-tables -fstack-clash-protection -fcf-protection -mtls-dialect=gnu2 -fno-omit-frame-pointer -mno-omit-leaf-frame-pointer ' --extra-ldflags='-Wl,-z,relro -Wl,--as-needed -Wl,-z,pack-relative-relocs -Wl,-z,now -specs=/usr/lib/rpm/redhat/redhat-hardened-ld -specs=/usr/lib/rpm/redhat/redhat-annobin-cc1 -Wl,--build-id=sha1 -specs=/usr/lib/rpm/redhat/redhat-package-notes ' --disable-htmlpages --enable-pic --disable-stripping --enable-shared --disable-static --enable-gpl --enable-version3 --enable-libsmbclient --disable-openssl --enable-bzlib --enable-frei0r --enable-chromaprint --enable-gcrypt --enable-gnutls --enable-ladspa --enable-lcms2 --enable-libshaderc --enable-vulkan --disable-cuda-sdk --enable-libaom --enable-libaribb24 --enable-libaribcaption --enable-libass --enable-libbluray --enable-libbs2b --enable-libcaca --enable-libcdio --enable-libcodec2 --enable-libdav1d --enable-libdc1394 --enable-libdvdnav --enable-libdvdread --enable-libfdk-aac --enable-libflite --enable-libfontconfig --enable-libfreetype --enable-libfribidi --enable-libharfbuzz --enable-libgme --enable-libgsm --enable-libiec61883 --enable-libilbc --enable-libjack --enable-libjxl --enable-liblc3 --enable-libmodplug --enable-libmp3lame --enable-libmysofa --enable-libopenh264 --enable-libopenjpeg --enable-libopenmpt --enable-libopus --enable-libplacebo --enable-libpulse --enable-libqrencode --enable-librabbitmq --enable-librav1e --enable-librist --enable-librsvg --enable-librubberband --enable-libsnappy --enable-libsvtav1 --enable-libsoxr --enable-libspeex --enable-libssh --enable-libsrt --enable-libtesseract --enable-libtheora --enable-libtwolame --enable-libvidstab --enable-libvmaf --enable-libvorbis --enable-libv4l2 --enable-libvpx --enable-libwebp --enable-libxml2 --enable-libzimg --enable-libzmq --enable-libzvbi --enable-lto --enable-libvpl --enable-lv2 --enable-vaapi --enable-vdpau --enable-libopencore-amrnb --enable-libopencore-amrwb --enable-libvo-amrwbenc --enable-libxvid --enable-openal --enable-opencl --enable-opengl --enable-pthreads --enable-vapoursynth --enable-muxers --enable-demuxers --enable-hwaccels --disable-encoders --disable-decoders --disable-decoder='h264,hevc,libxevd,vc1,vvc' --enable-encoder=',a64multi,a64multi5,aac,libfdk_aac,ac3,adpcm_adx,adpcm_argo,adpcm_g722,adpcm_g726,adpcm_g726le,adpcm_ima_alp,adpcm_ima_amv,adpcm_ima_apm,adpcm_ima_qt,adpcm_ima_ssi,adpcm_ima_wav,adpcm_ima_ws,adpcm_ms,adpcm_swf,adpcm_yamaha,alac,alias_pix,amv,anull,apng,ass,asv1,asv2,av1_amf,av1_nvenc,av1_qsv,av1_vaapi,bitpacked,bmp,cinepak,cljr,dca,dfpwm,dnxhd,dpx,dvbsub,dvdsub,dvvideo,exr,ffv1,ffvhuff,flac,flashsv,flashsv2,flv,g723_1,gif,h261,h263,h263_v4l2m2m,h263p,h264_amf,h264_nvenc,h264_qsv,h264_v4l2m2m,h264_vaapi,hap,hdr,hevc_amf,hevc_nvenc,hevc_qsv,hevc_v4l2m2m,hevc_vaapi,huffyuv,ilbc,jpeg2000,jpegls,libaom,libaom_av1,libcodec2,libgsm,libgsm_ms,libilbc,libjxl,liblc3,libmp3lame,libopencore_amrnb,libopenh264,libopenjpeg,libopus,librav1e,libspeex,libsvtav1,libtheora,libtwolame,libvo_amrwbenc,libvorbis,libvpx_vp8,libvpx_vp9,libwebp,libwebp_anim,libxvid,mjpeg,mjpeg_qsv,mjpeg_vaapi,mlp,mp2,mp2fixed,mpeg1video,mpeg2_qsv,mpeg2_vaapi,mpeg2video,mpeg4,mpeg4_v4l2m2m,msmpeg4v2,msmpeg4v3,msvideo1,nellymoser,opus,pam,pbm,pcm_alaw,pcm_f32be,pcm_f32le,pcm_f64be,pcm_f64le,pcm_mulaw,pcm_s16be,pcm_s16be_planar,pcm_s16le,pcm_s16le_planar,pcm_s24be,pcm_s24le,pcm_s24le_planar,pcm_s32be,pcm_s32le,pcm_s32le_planar,pcm_s8,pcm_s8_planar,pcm_u16be,pcm_u16le,pcm_u24be,pcm_u24le,pcm_u32be,pcm_u32le,pcm_u8,pcx,pgm,pgmyuv,phm,png,ppm,qoi,qtrle,r10k,r210,ra_144,rawvideo,roq,roq_dpcm,rpza,rv10,rv20,s302m,sbc,sgi,smc,snow,sonic,sonic_ls,speedhq,srt,ssa,subrip,sunrast,svq1,targa,text,tiff,truehd,tta,ttml,utvideo,v210,v308,v408,v410,vc1_qsv,vc1_v4l2m2m,vc2,vnull,vorbis,vp8_qsv,vp8_v4l2m2m,vp8_vaapi,vp9_qsv,vp9_vaapi,wavpack,wbmp,webvtt,wmav1,wmav2,wmv1,wmv2,wrapped_avframe,xbm,xface,xsub,xwd,y41p,yuv4,zlib,zmbv,' --enable-decoder=',aasc,libfdk_aac,ac3,acelp_kelvin,adpcm_4xm,adpcm_adx,adpcm_afc,adpcm_agm,adpcm_aica,adpcm_argo,adpcm_ct,adpcm_dtk,adpcm_ea,adpcm_ea_maxis_xa,adpcm_ea_r1,adpcm_ea_r2,adpcm_ea_r3,adpcm_ea_xas,adpcm_g722,adpcm_g726,adpcm_g726le,adpcm_ima_acorn,adpcm_ima_alp,adpcm_ima_amv,adpcm_ima_apc,adpcm_ima_apm,adpcm_ima_cunning,adpcm_ima_dat4,adpcm_ima_dk3,adpcm_ima_dk4,adpcm_ima_ea_eacs,adpcm_ima_ea_sead,adpcm_ima_iss,adpcm_ima_moflex,adpcm_ima_mtf,adpcm_ima_oki,adpcm_ima_qt,adpcm_ima_qt_at,adpcm_ima_rad,adpcm_ima_smjpeg,adpcm_ima_ssi,adpcm_ima_wav,adpcm_ima_ws,adpcm_ms,adpcm_mtaf,adpcm_psx,adpcm_sbpro_2,adpcm_sbpro_3,adpcm_sbpro_4,adpcm_swf,adpcm_thp,adpcm_thp_le,adpcm_vima,adpcm_xa,adpcm_xmd,adpcm_yamaha,adpcm_zork,alac,alias_pix,amrnb,amrwb,amv,anm,ansi,anull,apac,ape,apng,arbc,argo,ass,asv1,asv2,atrac1,atrac3,atrac3al,atrac3p,atrac3pal,aura,aura2,av1,av1_qsv,bethsoftvid,bfi,bink,binkaudio_dct,binkaudio_rdft,bintext,bitpacked,bmp,bmv_audio,bmv_video,bonk,brender_pix,c93,cbd2_dpcm,ccaption,cdgraphics,cdtoons,cdxl,cinepak,clearvideo,cljr,cook,cpia,cscd,cyuv,dca,dds,derf_dpcm,dfa,dfpwm,dirac,dnxhd,dolby_e,dpx,dsd_lsbf,dsd_msbf,dsicinaudio,dsicinvideo,dss_sp,dvaudio,dvbsub,dvdsub,dvvideo,dxa,dxtory,eacmv,eamad,eatgq,eatgv,eatqi,eightbps,eightsvx_exp,eightsvx_fib,escape124,escape130,evrc,exr,ffv1,ffvhuff,ffwavesynth,fits,flac,flashsv,flashsv2,flic,flv,fmvc,fourxm,ftr,g723_1,g729,gdv,gem,gif,gremlin_dpcm,gsm,gsm_ms,gsm_ms_at,h261,h263,h263_v4l2m2m,h263i,h263p,hap,hca,hcom,hdr,hnm4_video,hq_hqa,hqx,huffyuv,hymt,iac,idcin,idf,iff_ilbm,ilbc,imc,indeo2,indeo3,indeo4,indeo5,interplay_acm,interplay_dpcm,interplay_video,ipu,jacosub,jpeg2000,jpegls,jv,kgv1,kmvc,lagarith,libaribb24,libaribcaption,libaom,libaom_av1,libcodec2,libdav1d,libgsm,libgsm_ms,libilbc,libjxl,liblc3,libopencore_amrnb,libopencore_amrwb,libopenh264,libopenjpeg,libopus,librsvg,libschroedinger,libspeex,libvorbis,libvpx_vp8,libvpx_vp9,libzvbi_teletext,loco,lscr,m101,mace3,mace6,mdec,media100,metasound,microdvd,mimic,misc4,mjpeg,mjpeg_qsv,mjpegb,mlp,mmvideo,motionpixels,mp1,mp1float,mp2,mp2float,mp3,mp3adu,mp3adufloat,mp3float,mp3on4,mp3on4float,mpc7,mpc8,mpeg1_v4l2m2m,mpeg1video,mpeg2_qsv,mpeg2_v4l2m2m,mpeg2video,mpeg4,mpeg4_v4l2m2m,mpegvideo,mpl2,msa1,mscc,msmpeg4v1,msmpeg4v2,msmpeg4v3,msnsiren,msp2,msrle,mss1,mss2,msvideo1,mszh,mts2,mv30,mvc1,mvc2,mvdv,mvha,mwsc,mxpeg,nellymoser,nuv,on2avc,opus,paf_audio,paf_video,pam,pbm,pcm_alaw,pcm_bluray,pcm_dvd,pcm_f16le,pcm_f24le,pcm_f32be,pcm_f32le,pcm_f64be,pcm_f64le,pcm_lxf,pcm_mulaw,pcm_s16be,pcm_s16be_planar,pcm_s16le,pcm_s16le_planar,pcm_s24be,pcm_s24daud,pcm_s24le,pcm_s24le_planar,pcm_s32be,pcm_s32le,pcm_s32le_planar,pcm_s64be,pcm_s64le,pcm_s8,pcm_s8_planar,pcm_sga,pcm_u16be,pcm_u16le,pcm_u24be,pcm_u24le,pcm_u32be,pcm_u32le,pcm_u8,pcm_vidc,pcx,pfm,pgm,pgmyuv,pgssub,pgx,phm,photocd,pictor,pjs,png,ppm,prosumer,psd,ptx,qcelp,qdm2,qdmc,qdraw,qoa,qoi,qpeg,qtrle,r10k,r210,ra_144,ra_288,rasc,rawvideo,realtext,rka,rl2,roq,roq_dpcm,rpza,rscc,rv10,rv20,s302m,sami,sanm,sbc,screenpresso,sdx2_dpcm,sgi,sgirle,shorten,simbiosis_imx,sipr,siren,smackaud,smacker,smc,smvjpeg,snow,sol_dpcm,sonic,sp5x,speedhq,speex,srgc,srt,ssa,stl,subrip,subviewer,subviewer1,sunrast,svq1,svq3,tak,targa,targa_y216,tdsc,text,theora,thp,tiertexseqvideo,tiff,tmv,truehd,truemotion1,truemotion2,truemotion2rt,truespeech,tscc,tscc2,tta,twinvq,txd,ulti,utvideo,v210,v210x,v308,v408,v410,vb,vble,vcr1,vmdaudio,vmdvideo,vmnc,vnull,vorbis,vp3,vp4,vp5,vp6,vp6a,vp6f,vp7,vp8,vp8_qsv,vp8_v4l2m2m,vp9,vp9_qsv,vp9_v4l2m2m,vplayer,vqa,vqc,wady_dpcm,wavarc,wavpack,wbmp,wcmv,webp,webvtt,wmav1,wmav2,wmavoice,wmv1,wmv2,wnv1,wrapped_avframe,ws_snd1,xan_dpcm,xan_wc3,xan_wc4,xbin,xbm,xface,xl,xpm,xsub,xwd,y41p,ylc,yop,yuv4,zero12v,zerocodec,zlib,zmbv,'\r\n",
      "  libavutil      59. 39.100 / 59. 39.100\r\n",
      "  libavcodec     61. 19.101 / 61. 19.101\r\n",
      "  libavformat    61.  7.100 / 61.  7.100\r\n",
      "  libavdevice    61.  3.100 / 61.  3.100\r\n",
      "  libavfilter    10.  4.100 / 10.  4.100\r\n",
      "  libswscale      8.  3.100 /  8.  3.100\r\n",
      "  libswresample   5.  3.100 /  5.  3.100\r\n",
      "  libpostproc    58.  3.100 / 58.  3.100\r\n",
      "\u001B[0;35m[mov,mp4,m4a,3gp,3g2,mj2 @ 0x555f1b373a40] \u001B[0m\u001B[0;33mstream 0, timescale not set\r\n",
      "\u001B[0mInput #0, mov,mp4,m4a,3gp,3g2,mj2, from './music/Радио-RADIOTAPOK.m4a':\r\n",
      "  Metadata:\r\n",
      "    major_brand     : M4A \r\n",
      "    minor_version   : 512\r\n",
      "    compatible_brands: isomiso2\r\n",
      "    title           : Радио\r\n",
      "    artist          : RADIO TAPOK\r\n",
      "    album           : Радио\r\n",
      "    date            : 20200413\r\n",
      "    encoder         : Lavf57.83.100\r\n",
      "    comment         : Provided to YouTube by TuneCore\r\n",
      "                    : \r\n",
      "                    : Радио · RADIO TAPOK\r\n",
      "                    : \r\n",
      "                    : Радио\r\n",
      "                    : \r\n",
      "                    : ℗ 2020 UMG_MK (от лица компании \"Rammstein\"\r\n",
      "                    : \r\n",
      "                    : Released on: 2020-04-07\r\n",
      "                    : \r\n",
      "                    : Auto-generated by YouTube.\r\n",
      "    description     : Provided to YouTube by TuneCore\r\n",
      "                    : \r\n",
      "                    : Радио · RADIO TAPOK\r\n",
      "                    : \r\n",
      "                    : Радио\r\n",
      "                    : \r\n",
      "                    : ℗ 2020 UMG_MK (от лица компании \"Rammstein\"\r\n",
      "                    : \r\n",
      "                    : Released on: 2020-04-07\r\n",
      "                    : \r\n",
      "                    : Auto-generated by YouTube.\r\n",
      "  Duration: 00:04:00.13, start: 0.000000, bitrate: 130 kb/s\r\n",
      "  Stream #0:0[0x1](und): Audio: aac (libfdk_aac) (LC) (mp4a / 0x6134706D), 44100 Hz, stereo, s16, 128 kb/s (default)\r\n",
      "      Metadata:\r\n",
      "        handler_name    : SoundHandler\r\n",
      "        vendor_id       : [0][0][0][0]\r\n",
      "  Stream #0:1[0x0]: Video: mjpeg (Baseline), yuvj444p(pc, bt470bg/unknown/unknown), 544x544 [SAR 1:1 DAR 1:1], 90k tbr, 90k tbn (attached pic)\r\n",
      "Stream mapping:\r\n",
      "  Stream #0:0 -> #0:0 (aac (libfdk_aac) -> pcm_s16le (native))\r\n",
      "Press [q] to stop, [?] for help\r\n",
      "Output #0, wav, to './wav/Радио-RADIOTAPOK.wav':\r\n",
      "  Metadata:\r\n",
      "    major_brand     : M4A \r\n",
      "    minor_version   : 512\r\n",
      "    compatible_brands: isomiso2\r\n",
      "    INAM            : Радио\r\n",
      "    IART            : RADIO TAPOK\r\n",
      "    IPRD            : Радио\r\n",
      "    ICRD            : 20200413\r\n",
      "    description     : Provided to YouTube by TuneCore\r\n",
      "                    : \r\n",
      "                    : Радио · RADIO TAPOK\r\n",
      "                    : \r\n",
      "                    : Радио\r\n",
      "                    : \r\n",
      "                    : ℗ 2020 UMG_MK (от лица компании \"Rammstein\"\r\n",
      "                    : \r\n",
      "                    : Released on: 2020-04-07\r\n",
      "                    : \r\n",
      "                    : Auto-generated by YouTube.\r\n",
      "    ICMT            : Provided to YouTube by TuneCore\r\n",
      "                    : \r\n",
      "                    : Радио · RADIO TAPOK\r\n",
      "                    : \r\n",
      "                    : Радио\r\n",
      "                    : \r\n",
      "                    : ℗ 2020 UMG_MK (от лица компании \"Rammstein\"\r\n",
      "                    : \r\n",
      "                    : Released on: 2020-04-07\r\n",
      "                    : \r\n",
      "                    : Auto-generated by YouTube.\r\n",
      "    ISFT            : Lavf61.7.100\r\n",
      "  Stream #0:0(und): Audio: pcm_s16le ([1][0][0][0] / 0x0001), 44100 Hz, stereo, s16, 1411 kb/s (default)\r\n",
      "      Metadata:\r\n",
      "        handler_name    : SoundHandler\r\n",
      "        vendor_id       : [0][0][0][0]\r\n",
      "        encoder         : Lavc61.19.101 pcm_s16le\r\n",
      "\u001B[1;35m[out#0/wav @ 0x555f1b429380] \u001B[0mvideo:0KiB audio:41368KiB subtitle:0KiB other streams:0KiB global headers:0KiB muxing overhead: 0.000826%\r\n",
      "size=   41368KiB time=00:04:00.11 bitrate=1411.3kbits/s speed= 502x    \r\n",
      "Conversion complete! WAV files saved in './wav'\r\n"
     ]
    }
   ],
   "execution_count": 67
  },
  {
   "metadata": {},
   "cell_type": "markdown",
   "source": "## Split voice and music",
   "id": "329c514eed18fc6a"
  },
  {
   "metadata": {
    "ExecuteTime": {
     "end_time": "2025-06-08T10:37:07.629326Z",
     "start_time": "2025-06-08T10:34:42.236100Z"
    }
   },
   "cell_type": "code",
   "source": "!bash ./spleet.sh \"{WAV_DIR}\" \"{SPLIT_DIR}\"",
   "id": "7b43f3ae4235bb07",
   "outputs": [
    {
     "name": "stderr",
     "output_type": "stream",
     "text": [
      "huggingface/tokenizers: The current process just got forked, after parallelism has already been used. Disabling parallelism to avoid deadlocks...\n",
      "To disable this warning, you can either:\n",
      "\t- Avoid using `tokenizers` before the fork if possible\n",
      "\t- Explicitly set the environment variable TOKENIZERS_PARALLELISM=(true | false)\n"
     ]
    },
    {
     "name": "stdout",
     "output_type": "stream",
     "text": [
      "INFO:spleeter:Downloading model archive https://github.com/deezer/spleeter/releases/download/v1.4.0/2stems.tar.gz\r\n",
      "INFO:spleeter:Validating archive checksum\r\n",
      "INFO:spleeter:Extracting downloaded 2stems archive\r\n",
      "INFO:spleeter:2stems model file(s) extracted\r\n",
      "INFO:spleeter:File /audio/spleeter_temp/InTheArmyNow-StatusQuo/accompaniment.wav written succesfully\r\n",
      "INFO:spleeter:File /audio/spleeter_temp/InTheArmyNow-StatusQuo/vocals.wav written succesfully\r\n",
      "INFO:spleeter:Downloading model archive https://github.com/deezer/spleeter/releases/download/v1.4.0/2stems.tar.gz\r\n",
      "INFO:spleeter:Validating archive checksum\r\n",
      "INFO:spleeter:Extracting downloaded 2stems archive\r\n",
      "INFO:spleeter:2stems model file(s) extracted\r\n",
      "INFO:spleeter:File /audio/spleeter_temp/RADIO-Rammstein/accompaniment.wav written succesfully\r\n",
      "INFO:spleeter:File /audio/spleeter_temp/RADIO-Rammstein/vocals.wav written succesfully\r\n",
      "INFO:spleeter:Downloading model archive https://github.com/deezer/spleeter/releases/download/v1.4.0/2stems.tar.gz\r\n",
      "INFO:spleeter:Validating archive checksum\r\n",
      "INFO:spleeter:Extracting downloaded 2stems archive\r\n",
      "INFO:spleeter:2stems model file(s) extracted\r\n",
      "INFO:spleeter:File /audio/spleeter_temp/TimeinaBottle-JimCroce/vocals.wav written succesfully\r\n",
      "INFO:spleeter:File /audio/spleeter_temp/TimeinaBottle-JimCroce/accompaniment.wav written succesfully\r\n",
      "INFO:spleeter:Downloading model archive https://github.com/deezer/spleeter/releases/download/v1.4.0/2stems.tar.gz\r\n",
      "INFO:spleeter:Validating archive checksum\r\n",
      "INFO:spleeter:Extracting downloaded 2stems archive\r\n",
      "INFO:spleeter:2stems model file(s) extracted\r\n",
      "INFO:spleeter:File /audio/spleeter_temp/YoureintheArmyNow-BollandBolland/vocals.wav written succesfully\r\n",
      "INFO:spleeter:File /audio/spleeter_temp/YoureintheArmyNow-BollandBolland/accompaniment.wav written succesfully\r\n",
      "INFO:spleeter:Downloading model archive https://github.com/deezer/spleeter/releases/download/v1.4.0/2stems.tar.gz\r\n",
      "INFO:spleeter:Validating archive checksum\r\n",
      "INFO:spleeter:Extracting downloaded 2stems archive\r\n",
      "INFO:spleeter:2stems model file(s) extracted\r\n",
      "INFO:spleeter:File /audio/spleeter_temp/Радио-RADIOTAPOK/vocals.wav written succesfully\r\n",
      "INFO:spleeter:File /audio/spleeter_temp/Радио-RADIOTAPOK/accompaniment.wav written succesfully\r\n"
     ]
    }
   ],
   "execution_count": 69
  },
  {
   "metadata": {},
   "cell_type": "markdown",
   "source": "## Create midi for accompaniment files",
   "id": "5cf4316546fb175f"
  },
  {
   "metadata": {
    "ExecuteTime": {
     "end_time": "2025-06-08T10:38:49.041544Z",
     "start_time": "2025-06-08T10:37:29.679916Z"
    }
   },
   "cell_type": "code",
   "source": [
    "accomp_dir = os.path.join(SPLIT_DIR, 'accomp')\n",
    "print(accomp_dir)\n",
    "\n",
    "!bash ./midi_converter.sh \"{accomp_dir}\" \"{MIDI_DIR}\"\n",
    "\n",
    "for filename in os.listdir(MIDI_DIR):\n",
    "    if filename.endswith(\"_basic_pitch.mid\"):\n",
    "        old_path = os.path.join(MIDI_DIR, filename)\n",
    "        new_name = filename.replace(\"_basic_pitch\", \"\")\n",
    "        new_path = os.path.join(MIDI_DIR, new_name)\n",
    "        os.rename(old_path, new_path)"
   ],
   "id": "4a6bd9deb9f25290",
   "outputs": [
    {
     "name": "stdout",
     "output_type": "stream",
     "text": [
      "./split/accomp\n",
      "Обрабатывается: InTheArmyNow-StatusQuo.wav\r\n"
     ]
    },
    {
     "name": "stderr",
     "output_type": "stream",
     "text": [
      "huggingface/tokenizers: The current process just got forked, after parallelism has already been used. Disabling parallelism to avoid deadlocks...\n",
      "To disable this warning, you can either:\n",
      "\t- Avoid using `tokenizers` before the fork if possible\n",
      "\t- Explicitly set the environment variable TOKENIZERS_PARALLELISM=(true | false)\n"
     ]
    },
    {
     "name": "stdout",
     "output_type": "stream",
     "text": [
      "WARNING:root:Coremltools is not installed. If you plan to use a CoreML Saved Model, reinstall basic-pitch with `pip install 'basic-pitch[coreml]'`\r\n",
      "WARNING:root:onnxruntime is not installed. If you plan to use an ONNX Model, reinstall basic-pitch with `pip install 'basic-pitch[onnx]'`\r\n",
      "2025-06-08 10:37:30.651611: W tensorflow/stream_executor/platform/default/dso_loader.cc:64] Could not load dynamic library 'libcudart.so.11.0'; dlerror: libcudart.so.11.0: cannot open shared object file: No such file or directory\r\n",
      "2025-06-08 10:37:30.651652: I tensorflow/stream_executor/cuda/cudart_stub.cc:29] Ignore above cudart dlerror if you do not have a GPU set up on your machine.\r\n",
      "2025-06-08 10:37:33.181293: W tensorflow/stream_executor/platform/default/dso_loader.cc:64] Could not load dynamic library 'libcuda.so.1'; dlerror: libcuda.so.1: cannot open shared object file: No such file or directory\r\n",
      "2025-06-08 10:37:33.181323: W tensorflow/stream_executor/cuda/cuda_driver.cc:269] failed call to cuInit: UNKNOWN ERROR (303)\r\n",
      "2025-06-08 10:37:33.181343: I tensorflow/stream_executor/cuda/cuda_diagnostics.cc:156] kernel driver does not appear to be running on this host (bf872fdda58d): /proc/driver/nvidia/version does not exist\r\n",
      "2025-06-08 10:37:33.181631: I tensorflow/core/platform/cpu_feature_guard.cc:151] This TensorFlow binary is optimized with oneAPI Deep Neural Network Library (oneDNN) to use the following CPU instructions in performance-critical operations:  AVX2 AVX512F FMA\r\n",
      "To enable them in other operations, rebuild TensorFlow with the appropriate compiler flags.\r\n",
      "\r\n",
      "✨✨✨✨✨✨✨✨✨\r\n",
      "✨ Basic Pitch  ✨\r\n",
      "✨✨✨✨✨✨✨✨✨\r\n",
      "\r\n",
      "Importing the ML infrence library (this may take a few seconds)...\r\n",
      "\r\n",
      "Predicting MIDI for /app/split/accomp/InTheArmyNow-StatusQuo.wav...\r\n",
      "\r\n",
      "\r\n",
      "  Creating midi...\r\n",
      "  💅 Saved to /app/midi/InTheArmyNow-StatusQuo_basic_pitch.mid\r\n",
      "\r\n",
      "✨ Done ✨\r\n",
      "\r\n",
      "Обрабатывается: RADIO-Rammstein.wav\r\n",
      "WARNING:root:Coremltools is not installed. If you plan to use a CoreML Saved Model, reinstall basic-pitch with `pip install 'basic-pitch[coreml]'`\r\n",
      "WARNING:root:onnxruntime is not installed. If you plan to use an ONNX Model, reinstall basic-pitch with `pip install 'basic-pitch[onnx]'`\r\n",
      "2025-06-08 10:37:49.528134: W tensorflow/stream_executor/platform/default/dso_loader.cc:64] Could not load dynamic library 'libcudart.so.11.0'; dlerror: libcudart.so.11.0: cannot open shared object file: No such file or directory\r\n",
      "2025-06-08 10:37:49.528162: I tensorflow/stream_executor/cuda/cudart_stub.cc:29] Ignore above cudart dlerror if you do not have a GPU set up on your machine.\r\n",
      "2025-06-08 10:37:50.984546: W tensorflow/stream_executor/platform/default/dso_loader.cc:64] Could not load dynamic library 'libcuda.so.1'; dlerror: libcuda.so.1: cannot open shared object file: No such file or directory\r\n",
      "2025-06-08 10:37:50.984576: W tensorflow/stream_executor/cuda/cuda_driver.cc:269] failed call to cuInit: UNKNOWN ERROR (303)\r\n",
      "2025-06-08 10:37:50.984595: I tensorflow/stream_executor/cuda/cuda_diagnostics.cc:156] kernel driver does not appear to be running on this host (955269569fd6): /proc/driver/nvidia/version does not exist\r\n",
      "2025-06-08 10:37:50.984736: I tensorflow/core/platform/cpu_feature_guard.cc:151] This TensorFlow binary is optimized with oneAPI Deep Neural Network Library (oneDNN) to use the following CPU instructions in performance-critical operations:  AVX2 AVX512F FMA\r\n",
      "To enable them in other operations, rebuild TensorFlow with the appropriate compiler flags.\r\n",
      "\r\n",
      "✨✨✨✨✨✨✨✨✨\r\n",
      "✨ Basic Pitch  ✨\r\n",
      "✨✨✨✨✨✨✨✨✨\r\n",
      "\r\n",
      "Importing the ML infrence library (this may take a few seconds)...\r\n",
      "\r\n",
      "Predicting MIDI for /app/split/accomp/RADIO-Rammstein.wav...\r\n",
      "\r\n",
      "\r\n",
      "  Creating midi...\r\n",
      "  💅 Saved to /app/midi/RADIO-Rammstein_basic_pitch.mid\r\n",
      "\r\n",
      "✨ Done ✨\r\n",
      "\r\n",
      "Обрабатывается: TimeinaBottle-JimCroce.wav\r\n",
      "WARNING:root:Coremltools is not installed. If you plan to use a CoreML Saved Model, reinstall basic-pitch with `pip install 'basic-pitch[coreml]'`\r\n",
      "WARNING:root:onnxruntime is not installed. If you plan to use an ONNX Model, reinstall basic-pitch with `pip install 'basic-pitch[onnx]'`\r\n",
      "2025-06-08 10:38:05.320980: W tensorflow/stream_executor/platform/default/dso_loader.cc:64] Could not load dynamic library 'libcudart.so.11.0'; dlerror: libcudart.so.11.0: cannot open shared object file: No such file or directory\r\n",
      "2025-06-08 10:38:05.321008: I tensorflow/stream_executor/cuda/cudart_stub.cc:29] Ignore above cudart dlerror if you do not have a GPU set up on your machine.\r\n",
      "2025-06-08 10:38:06.773281: W tensorflow/stream_executor/platform/default/dso_loader.cc:64] Could not load dynamic library 'libcuda.so.1'; dlerror: libcuda.so.1: cannot open shared object file: No such file or directory\r\n",
      "2025-06-08 10:38:06.773314: W tensorflow/stream_executor/cuda/cuda_driver.cc:269] failed call to cuInit: UNKNOWN ERROR (303)\r\n",
      "2025-06-08 10:38:06.773335: I tensorflow/stream_executor/cuda/cuda_diagnostics.cc:156] kernel driver does not appear to be running on this host (5cfaa822f845): /proc/driver/nvidia/version does not exist\r\n",
      "2025-06-08 10:38:06.773511: I tensorflow/core/platform/cpu_feature_guard.cc:151] This TensorFlow binary is optimized with oneAPI Deep Neural Network Library (oneDNN) to use the following CPU instructions in performance-critical operations:  AVX2 AVX512F FMA\r\n",
      "To enable them in other operations, rebuild TensorFlow with the appropriate compiler flags.\r\n",
      "\r\n",
      "✨✨✨✨✨✨✨✨✨\r\n",
      "✨ Basic Pitch  ✨\r\n",
      "✨✨✨✨✨✨✨✨✨\r\n",
      "\r\n",
      "Importing the ML infrence library (this may take a few seconds)...\r\n",
      "\r\n",
      "Predicting MIDI for /app/split/accomp/TimeinaBottle-JimCroce.wav...\r\n",
      "\r\n",
      "\r\n",
      "  Creating midi...\r\n",
      "  💅 Saved to /app/midi/TimeinaBottle-JimCroce_basic_pitch.mid\r\n",
      "\r\n",
      "✨ Done ✨\r\n",
      "\r\n",
      "Обрабатывается: YoureintheArmyNow-BollandBolland.wav\r\n",
      "WARNING:root:Coremltools is not installed. If you plan to use a CoreML Saved Model, reinstall basic-pitch with `pip install 'basic-pitch[coreml]'`\r\n",
      "WARNING:root:onnxruntime is not installed. If you plan to use an ONNX Model, reinstall basic-pitch with `pip install 'basic-pitch[onnx]'`\r\n",
      "2025-06-08 10:38:18.828086: W tensorflow/stream_executor/platform/default/dso_loader.cc:64] Could not load dynamic library 'libcudart.so.11.0'; dlerror: libcudart.so.11.0: cannot open shared object file: No such file or directory\r\n",
      "2025-06-08 10:38:18.828116: I tensorflow/stream_executor/cuda/cudart_stub.cc:29] Ignore above cudart dlerror if you do not have a GPU set up on your machine.\r\n",
      "2025-06-08 10:38:20.279680: W tensorflow/stream_executor/platform/default/dso_loader.cc:64] Could not load dynamic library 'libcuda.so.1'; dlerror: libcuda.so.1: cannot open shared object file: No such file or directory\r\n",
      "2025-06-08 10:38:20.279720: W tensorflow/stream_executor/cuda/cuda_driver.cc:269] failed call to cuInit: UNKNOWN ERROR (303)\r\n",
      "2025-06-08 10:38:20.279742: I tensorflow/stream_executor/cuda/cuda_diagnostics.cc:156] kernel driver does not appear to be running on this host (5cb59994f29b): /proc/driver/nvidia/version does not exist\r\n",
      "2025-06-08 10:38:20.279902: I tensorflow/core/platform/cpu_feature_guard.cc:151] This TensorFlow binary is optimized with oneAPI Deep Neural Network Library (oneDNN) to use the following CPU instructions in performance-critical operations:  AVX2 AVX512F FMA\r\n",
      "To enable them in other operations, rebuild TensorFlow with the appropriate compiler flags.\r\n",
      "\r\n",
      "✨✨✨✨✨✨✨✨✨\r\n",
      "✨ Basic Pitch  ✨\r\n",
      "✨✨✨✨✨✨✨✨✨\r\n",
      "\r\n",
      "Importing the ML infrence library (this may take a few seconds)...\r\n",
      "\r\n",
      "Predicting MIDI for /app/split/accomp/YoureintheArmyNow-BollandBolland.wav...\r\n",
      "\r\n",
      "\r\n",
      "  Creating midi...\r\n",
      "  💅 Saved to /app/midi/YoureintheArmyNow-BollandBolland_basic_pitch.mid\r\n",
      "\r\n",
      "✨ Done ✨\r\n",
      "\r\n",
      "Обрабатывается: Радио-RADIOTAPOK.wav\r\n",
      "WARNING:root:Coremltools is not installed. If you plan to use a CoreML Saved Model, reinstall basic-pitch with `pip install 'basic-pitch[coreml]'`\r\n",
      "WARNING:root:onnxruntime is not installed. If you plan to use an ONNX Model, reinstall basic-pitch with `pip install 'basic-pitch[onnx]'`\r\n",
      "2025-06-08 10:38:34.757847: W tensorflow/stream_executor/platform/default/dso_loader.cc:64] Could not load dynamic library 'libcudart.so.11.0'; dlerror: libcudart.so.11.0: cannot open shared object file: No such file or directory\r\n",
      "2025-06-08 10:38:34.757877: I tensorflow/stream_executor/cuda/cudart_stub.cc:29] Ignore above cudart dlerror if you do not have a GPU set up on your machine.\r\n",
      "2025-06-08 10:38:36.201152: W tensorflow/stream_executor/platform/default/dso_loader.cc:64] Could not load dynamic library 'libcuda.so.1'; dlerror: libcuda.so.1: cannot open shared object file: No such file or directory\r\n",
      "2025-06-08 10:38:36.201181: W tensorflow/stream_executor/cuda/cuda_driver.cc:269] failed call to cuInit: UNKNOWN ERROR (303)\r\n",
      "2025-06-08 10:38:36.201199: I tensorflow/stream_executor/cuda/cuda_diagnostics.cc:156] kernel driver does not appear to be running on this host (dbdb5ac47ba0): /proc/driver/nvidia/version does not exist\r\n",
      "2025-06-08 10:38:36.201341: I tensorflow/core/platform/cpu_feature_guard.cc:151] This TensorFlow binary is optimized with oneAPI Deep Neural Network Library (oneDNN) to use the following CPU instructions in performance-critical operations:  AVX2 AVX512F FMA\r\n",
      "To enable them in other operations, rebuild TensorFlow with the appropriate compiler flags.\r\n",
      "\r\n",
      "✨✨✨✨✨✨✨✨✨\r\n",
      "✨ Basic Pitch  ✨\r\n",
      "✨✨✨✨✨✨✨✨✨\r\n",
      "\r\n",
      "Importing the ML infrence library (this may take a few seconds)...\r\n",
      "\r\n",
      "Predicting MIDI for /app/split/accomp/Радио-RADIOTAPOK.wav...\r\n",
      "\r\n",
      "\r\n",
      "  Creating midi...\r\n",
      "  💅 Saved to /app/midi/Радио-RADIOTAPOK_basic_pitch.mid\r\n",
      "\r\n",
      "✨ Done ✨\r\n",
      "\r\n"
     ]
    }
   ],
   "execution_count": 70
  },
  {
   "metadata": {},
   "cell_type": "markdown",
   "source": "# Compare compositions by text",
   "id": "8f000038961febe1"
  },
  {
   "metadata": {
    "ExecuteTime": {
     "end_time": "2025-06-08T10:39:30.943131Z",
     "start_time": "2025-06-08T10:39:30.731542Z"
    }
   },
   "cell_type": "code",
   "source": "client = Client(BASE_URL)",
   "id": "6c5051c7f3ea8536",
   "outputs": [
    {
     "name": "stdout",
     "output_type": "stream",
     "text": [
      "Loaded as API: http://localhost:8000/ ✔\n"
     ]
    }
   ],
   "execution_count": 71
  },
  {
   "metadata": {
    "ExecuteTime": {
     "end_time": "2025-06-08T10:39:32.346422Z",
     "start_time": "2025-06-08T10:39:32.343582Z"
    }
   },
   "cell_type": "code",
   "source": [
    "def transcribe_file(path):\n",
    "    try:\n",
    "        result = client.predict(\n",
    "            file_path=handle_file(path),\n",
    "            model=MODEL_NAME,\n",
    "            task='transcribe',\n",
    "            temperature=0,\n",
    "            stream=False,\n",
    "            api_name='/predict'\n",
    "        )\n",
    "\n",
    "        return result\n",
    "    except requests.RequestException as e:\n",
    "        print(f\"Error during transcription: {e}\")"
   ],
   "id": "fe39bdbbc01f2c1e",
   "outputs": [],
   "execution_count": 72
  },
  {
   "metadata": {
    "ExecuteTime": {
     "end_time": "2025-06-08T10:39:33.762936Z",
     "start_time": "2025-06-08T10:39:33.759942Z"
    }
   },
   "cell_type": "code",
   "source": [
    "def compute_similarity_paraphrase(text1: str, text2: str) -> float:\n",
    "    model = SentenceTransformer('paraphrase-MiniLM-L6-v2')  # Быстрая и точная модель\n",
    "\n",
    "    embedding1 = model.encode([text1], convert_to_tensor=True)\n",
    "    embedding2 = model.encode([text2], convert_to_tensor=True)\n",
    "\n",
    "    similarity = util.cos_sim(embedding1, embedding2)\n",
    "\n",
    "    return similarity.item()"
   ],
   "id": "6ffc0fd063f8109e",
   "outputs": [],
   "execution_count": 73
  },
  {
   "metadata": {
    "ExecuteTime": {
     "end_time": "2025-06-08T10:49:01.080317Z",
     "start_time": "2025-06-08T10:49:01.077443Z"
    }
   },
   "cell_type": "code",
   "source": [
    "def process_all_files(vocal_dir):\n",
    "    transcriptions = {}\n",
    "\n",
    "    for filename in os.listdir(vocal_dir):\n",
    "        if filename.lower().endswith(('.mp3', '.wav', '.m4a')):\n",
    "            file_path = os.path.join(vocal_dir, filename)\n",
    "            print(f\"Transcribing: {filename}\")\n",
    "\n",
    "            text = transcribe_file(file_path)\n",
    "\n",
    "            if text:\n",
    "                base = os.path.splitext(filename)[0]\n",
    "                parts = base.split('-')\n",
    "                song_name = parts[0]\n",
    "                author = parts[1]\n",
    "\n",
    "                transcriptions[(song_name, author)] = text\n",
    "\n",
    "    return transcriptions"
   ],
   "id": "e6336c4c9cc4f4be",
   "outputs": [],
   "execution_count": 77
  },
  {
   "metadata": {
    "ExecuteTime": {
     "end_time": "2025-06-08T10:39:37.880159Z",
     "start_time": "2025-06-08T10:39:37.876961Z"
    }
   },
   "cell_type": "code",
   "source": [
    "from itertools import combinations\n",
    "\n",
    "\n",
    "def compare_all_pairs(transcriptions, threshold=0.5):\n",
    "    results = []\n",
    "    for (song1, text1), (song2, text2) in combinations(transcriptions.items(), 2):\n",
    "        similarity = compute_similarity_paraphrase(text1, text2)\n",
    "        if similarity > threshold:\n",
    "\n",
    "            results.append((song1, song2, similarity))\n",
    "\n",
    "    return results"
   ],
   "id": "a200e26cec126891",
   "outputs": [],
   "execution_count": 75
  },
  {
   "metadata": {
    "ExecuteTime": {
     "end_time": "2025-06-08T10:52:54.050207Z",
     "start_time": "2025-06-08T10:49:20.417606Z"
    }
   },
   "cell_type": "code",
   "source": [
    "vocal_dir = os.path.join(SPLIT_DIR, 'vocals')\n",
    "\n",
    "transcription_res = process_all_files(vocal_dir)"
   ],
   "id": "c45f2ae05d6bb950",
   "outputs": [
    {
     "name": "stdout",
     "output_type": "stream",
     "text": [
      "Transcribing: RADIO-Rammstein.wav\n",
      "Transcribing: YoureintheArmyNow-BollandBolland.wav\n",
      "Transcribing: Радио-RADIOTAPOK.wav\n",
      "Transcribing: TimeinaBottle-JimCroce.wav\n",
      "Transcribing: InTheArmyNow-StatusQuo.wav\n"
     ]
    }
   ],
   "execution_count": 78
  },
  {
   "metadata": {
    "ExecuteTime": {
     "end_time": "2025-06-08T10:53:30.771650Z",
     "start_time": "2025-06-08T10:53:30.767498Z"
    }
   },
   "cell_type": "code",
   "source": [
    "for song, text in transcription_res.items():\n",
    "    print('\\n--------------------------------')\n",
    "    print(song)\n",
    "    print(text)"
   ],
   "id": "1fd87fb0ac96aa5f",
   "outputs": [
    {
     "name": "stdout",
     "output_type": "stream",
     "text": [
      "\n",
      "--------------------------------\n",
      "('RADIO', 'Rammstein')\n",
      "You will not be able to hear, not see, speak, or hear, but every night for one or two hours I am this world, every night a little joy, my organ is on the world receiver I will not be able to hear, not see, speak, or hear, but every night a little joy, my organ is on the world receiver I will not be able to hear, not see, speak, or hear, but every night a little joy, my organ is on the world receiver I will not be able to hear, not see, speak, or hear, but every night a little joy, my organ is on the world receiver I will not be able to hear, not see, speak, or hear, but every night a little joy, my organ is on the world receiver I will not be able to hear, not see, speak, or hear, but every night a little joy, my organ is on the world receiver I will not be able to hear, not see, speak, or hear, but every night a little joy, my organ is on the world receiver\n",
      "\n",
      "--------------------------------\n",
      "('YoureintheArmyNow', 'BollandBolland')\n",
      "A vacation in the foreign land, Uncle Sam does the best he can. You're in the army now. Whoa, whoa, you're in the army now. Now you remember what the dread man said. Nothing to do all day but stay in bed. You're in the army now. Whoa, whoa, you're in the army now. You're in the army now. Whoa, whoa, you're in the army now. You'll be the hero of the neighborhood. Nobody knows that you left your daughter in the army now. Whoa, whoa, you're in the army now. Smiling faces on the way to them. But once you get there, no one gives a damn. You're in the army now. Whoa, whoa, you're in the army now. You're in the army now. Whoa, whoa, you're in the army now. Ba da da da da da da da da da da da da da da da da da da da da da da da da da da da da da da da da da da da da da da da da da da da da da da da da da da da da da da da da da da da da da da da da da da da da da da da da da da da da da da da da da da da da da da da da da da da da da da da da da da da da da da da da da da da da da da da da da da da da da da da da da da da da da da da da da da da da da da da da da da da da da da da da da da da da da da da da da da da da da da da da da da da da da da da da da da da da da da da da da da da da da da da da da da da da da da da da da da da da da da da da da da da da da da da da da da da da da da da da da da da da da da da da da da da da da da da da da da da da da da da da da da da da da da da da da da da da da da da da da da da da da da da da da da da da da da da da da da da da da da da da\n",
      "\n",
      "--------------------------------\n",
      "('Радио', 'RADIOTAPOK')\n",
      "ლლლლლლლლლლლლლლლლლლლლლლლლლლლლლლლლლლლლლლლლლლლლლლლლლლლლლლლლლლლლლლლლლლლლლლლლლლ� ლლლლლლლლლლლლლლლლლლლლლლლლლლლლლლლლლლლლლლლლლლლლლლლლლლლლლლლლლლლლლლლლლლლლლლლლლ� ლლლლლლლლლლლლლლლლლლლლლლლლლლლლლლლლლლლლლლლლლლლლლლლლლლლლლლლლლლლლლლლლლლლლლლლლლ� ლლლლლლლლლლლლლლლლლლლლლლლლლლლლლლლლლლლლლლლლლლლლლლლლლლლლლლლლლლლლლლლლლლლლლლლლლ� ლლლლლლლლლლლლლლლლლლლლლლლლლლლლლლლლლლლლლლლლლლლლლლლლლლლლლლლლლლლლლლლლლლლლლლლლლ� ლლლლლლლლლლლლლლლლლლლლლლლლლლლლლლლლლლლლლლლლლლლლლლლლლლლლლლლლლლლლლლლლლლლლლლლლლ� ლლლლლლლლლლლლლლლლლლლლლლლლლლლლლლლლლლლლლლლლლლლლლლლლლლლლლლლლლლლლლლლლლლლლლლლლლ� ლლლლლლლლლლლლლლლლლლლლლლლლლლლლლლლლლლლლლლლლლლლლლლლლლლლლლლლლლლლლლლლლლლლლლლლლლ� ლლლლლლლლლლლლლლლლლლლლლლლლლლლლლლლლლლლლლლლლლლლლლლლლლლლლლლლლლლლლლლლლლლლლლლლლლ�\n",
      "\n",
      "--------------------------------\n",
      "('TimeinaBottle', 'JimCroce')\n",
      "If I could save time in a bottle, the first thing that I'd like to do is to save every day, that eternity passes away just to spend them with you. If I could make days last forever, if words could make wishes come true, I'd save every day like a treasure and then again I would spend them with you. But there never seems to be enough time to do the things you want to do once you find them. I looked around enough to know you're the one I want to go through time with. If I had a box just for wishes and dreams that had never come true, the box would be empty except for the memory of how they were answered by you. But there never seems to be enough time to do the things you want to do once you find them. I looked around enough to know you're the one I want to go through time with. Thank you for watching.\n",
      "\n",
      "--------------------------------\n",
      "('InTheArmyNow', 'StatusQuo')\n",
      "Now you remember what the tramp man said Nothing to do all day but stay in bed, you're in the army now Oh, oh, you're in the army now You'll be the hero of the neighborhood Nobody knows that you left for good, you're in the army now Oh, oh, you're in the army now Smiling faces as you wait to land But once you get there no one cares Oh, damn you're in the army now Oh, oh, you're in the army now Hang grenades flying over your head The vows flying over your head if you want to survive Without a vector in the army now Oh, oh, you're in the army now Searching out in the dead of night the sudden falls Stand up and fight! You're in the army now Oh, oh, you're in the army now You're in the army now Oh, oh, you're in the army now You put your orders and shoot on sight With fingers on the trigger But don't see why you're in the army now Oh, oh, you're in the army now You're in the army now Oh, oh, you're in the army now Light is falling and you just can't see Is this illusion or reality? You're in the army now Oh, oh, you're in the army now You're in the army now Oh, oh, you're in the army now You're in the army now Oh, oh, you're in the army now You're in the army now Oh, oh, you're in the army now Oh, oh, you're in the army now You're in the army now Oh, oh, you're in the army now You're in the army now Oh, oh, you're in the army now You're in the army now Oh, oh, you're in the army now You're in the army now Oh, oh, you're in the army now You're in the army now\n"
     ]
    }
   ],
   "execution_count": 79
  },
  {
   "metadata": {
    "ExecuteTime": {
     "end_time": "2025-06-08T10:59:49.277753Z",
     "start_time": "2025-06-08T10:59:11.387521Z"
    }
   },
   "cell_type": "code",
   "source": "similar_pairs = compare_all_pairs(transcription_res, threshold=0.1)",
   "id": "34a8ee66c7ab962a",
   "outputs": [],
   "execution_count": 80
  },
  {
   "metadata": {
    "ExecuteTime": {
     "end_time": "2025-06-08T10:59:58.383623Z",
     "start_time": "2025-06-08T10:59:58.380643Z"
    }
   },
   "cell_type": "code",
   "source": [
    "print(\"\\nSongs with significant similarity (> 0.5):\")\n",
    "for song1, song2, sim in similar_pairs:\n",
    "    print(f\"{song1} ↔ {song2}: similarity = {sim:.3f}\")"
   ],
   "id": "6e2f99bbc27d8af",
   "outputs": [
    {
     "name": "stdout",
     "output_type": "stream",
     "text": [
      "\n",
      "Songs with significant similarity (> 0.5):\n",
      "('RADIO', 'Rammstein') ↔ ('YoureintheArmyNow', 'BollandBolland'): similarity = 0.307\n",
      "('RADIO', 'Rammstein') ↔ ('Радио', 'RADIOTAPOK'): similarity = 0.150\n",
      "('RADIO', 'Rammstein') ↔ ('TimeinaBottle', 'JimCroce'): similarity = 0.312\n",
      "('RADIO', 'Rammstein') ↔ ('InTheArmyNow', 'StatusQuo'): similarity = 0.337\n",
      "('YoureintheArmyNow', 'BollandBolland') ↔ ('TimeinaBottle', 'JimCroce'): similarity = 0.244\n",
      "('YoureintheArmyNow', 'BollandBolland') ↔ ('InTheArmyNow', 'StatusQuo'): similarity = 0.818\n",
      "('TimeinaBottle', 'JimCroce') ↔ ('InTheArmyNow', 'StatusQuo'): similarity = 0.207\n"
     ]
    }
   ],
   "execution_count": 81
  },
  {
   "metadata": {},
   "cell_type": "markdown",
   "source": "### musicBERT",
   "id": "964c75bb2daad28f"
  },
  {
   "metadata": {
    "ExecuteTime": {
     "end_time": "2025-06-08T11:00:32.970546Z",
     "start_time": "2025-06-08T11:00:32.966685Z"
    }
   },
   "cell_type": "code",
   "source": [
    "from sklearn.metrics.pairwise import cosine_similarity\n",
    "import numpy as np\n",
    "from symusic import Score\n",
    "import os\n",
    "from miditok import MIDILike, TSD, REMI, TokenizerConfig"
   ],
   "id": "4060dde2b7cb6359",
   "outputs": [],
   "execution_count": 82
  },
  {
   "metadata": {
    "ExecuteTime": {
     "end_time": "2025-06-08T11:00:33.808777Z",
     "start_time": "2025-06-08T11:00:33.806462Z"
    }
   },
   "cell_type": "code",
   "source": [
    "def tokenize_midi_file(tokenizer, midi_path):\n",
    "    score = Score(midi_path)\n",
    "    tokseqs = tokenizer(score)\n",
    "\n",
    "    return np.array(tokseqs[0].ids)\n"
   ],
   "id": "80d02af6e9093223",
   "outputs": [],
   "execution_count": 83
  },
  {
   "metadata": {
    "ExecuteTime": {
     "end_time": "2025-06-08T11:00:35.073213Z",
     "start_time": "2025-06-08T11:00:35.070434Z"
    }
   },
   "cell_type": "code",
   "source": [
    "def tokenize_with_miditok(tokenizer_class, midi_path, config_args=None):\n",
    "    config = TokenizerConfig(**(config_args or {}))\n",
    "    tokenizer = tokenizer_class(config)\n",
    "    score = Score(midi_path)\n",
    "    tokens = tokenizer(score)\n",
    "\n",
    "    # return [np.array(tok) for tok in tokens]\n",
    "    return np.array(tokens[0].ids)"
   ],
   "id": "8fa76b28b610fc4a",
   "outputs": [],
   "execution_count": 84
  },
  {
   "metadata": {
    "ExecuteTime": {
     "end_time": "2025-06-08T11:00:36.214133Z",
     "start_time": "2025-06-08T11:00:36.211273Z"
    }
   },
   "cell_type": "code",
   "source": [
    "def compare_token_vectors(vec1, vec2):\n",
    "    min_len = min(len(vec1), len(vec2))\n",
    "    vec1 = vec1[:min_len].reshape(1, -1)\n",
    "    vec2 = vec2[:min_len].reshape(1, -1)\n",
    "\n",
    "    return cosine_similarity(vec1, vec2)[0][0]"
   ],
   "id": "da8a7a38fd6cc936",
   "outputs": [],
   "execution_count": 85
  },
  {
   "metadata": {
    "ExecuteTime": {
     "end_time": "2025-06-08T11:05:00.724758Z",
     "start_time": "2025-06-08T11:05:00.720690Z"
    }
   },
   "cell_type": "code",
   "source": [
    "def process_all_midis(tokenize_class, midi_dir):\n",
    "    tokenized_music = {}\n",
    "\n",
    "    for filename in os.listdir(midi_dir):\n",
    "        if filename.lower().endswith('.mid'):\n",
    "            file_path = os.path.join(midi_dir, filename)\n",
    "            print(f\"Tokenizing midi file: {filename}\")\n",
    "            tokens = tokenize_with_miditok(tokenize_class, file_path)\n",
    "\n",
    "            if len(tokens):\n",
    "                base = os.path.splitext(filename)[0]\n",
    "                parts = base.split('-')\n",
    "                song_name = parts[0]\n",
    "                author = parts[1]\n",
    "\n",
    "                tokenized_music[(song_name, author)] = tokens\n",
    "\n",
    "    return tokenized_music"
   ],
   "id": "9c1c5bfc6bfd1f6b",
   "outputs": [],
   "execution_count": 96
  },
  {
   "metadata": {
    "ExecuteTime": {
     "end_time": "2025-06-08T11:02:15.028608Z",
     "start_time": "2025-06-08T11:02:15.025948Z"
    }
   },
   "cell_type": "code",
   "source": [
    "def compare_all_tokenized_files(tokenized_files, threshold=0.5):\n",
    "    results = []\n",
    "    for (song1, tokens1), (song2, tokens2) in combinations(tokenized_files.items(), 2):\n",
    "        similarity = compare_token_vectors(tokens1, tokens2)\n",
    "        if similarity > threshold:\n",
    "\n",
    "            results.append((song1, song2, similarity))\n",
    "\n",
    "    return results"
   ],
   "id": "e0673fce50ec72a5",
   "outputs": [],
   "execution_count": 89
  },
  {
   "metadata": {
    "ExecuteTime": {
     "end_time": "2025-06-08T11:07:21.972602Z",
     "start_time": "2025-06-08T11:07:21.900232Z"
    }
   },
   "cell_type": "code",
   "source": "tokenization_res = process_all_midis(MIDILike, MIDI_DIR)",
   "id": "4d3a4ab94d9156b7",
   "outputs": [
    {
     "name": "stdout",
     "output_type": "stream",
     "text": [
      "Tokenizing midi file: InTheArmyNow-StatusQuo.mid\n",
      "Tokenizing midi file: Радио-RADIOTAPOK.mid\n",
      "Tokenizing midi file: RADIO-Rammstein.mid\n",
      "Tokenizing midi file: YoureintheArmyNow-BollandBolland.mid\n",
      "Tokenizing midi file: TimeinaBottle-JimCroce.mid\n"
     ]
    }
   ],
   "execution_count": 105
  },
  {
   "metadata": {
    "ExecuteTime": {
     "end_time": "2025-06-08T11:07:23.269301Z",
     "start_time": "2025-06-08T11:07:23.266450Z"
    }
   },
   "cell_type": "code",
   "source": [
    "for song, tokens in tokenization_res.items():\n",
    "    print('\\n--------------------------------')\n",
    "    print(song)\n",
    "    print(tokens)"
   ],
   "id": "4bae570e06cbbb43",
   "outputs": [
    {
     "name": "stdout",
     "output_type": "stream",
     "text": [
      "\n",
      "--------------------------------\n",
      "('InTheArmyNow', 'StatusQuo')\n",
      "[220  33 190 ... 150 214  99]\n",
      "\n",
      "--------------------------------\n",
      "('Радио', 'RADIOTAPOK')\n",
      "[213  19 194 ... 189 217 135]\n",
      "\n",
      "--------------------------------\n",
      "('RADIO', 'Rammstein')\n",
      "[218  19 195 ... 143 212 149]\n",
      "\n",
      "--------------------------------\n",
      "('YoureintheArmyNow', 'BollandBolland')\n",
      "[220  48 197 ... 136 157 145]\n",
      "\n",
      "--------------------------------\n",
      "('TimeinaBottle', 'JimCroce')\n",
      "[218  26 187 ... 190 214 105]\n"
     ]
    }
   ],
   "execution_count": 106
  },
  {
   "metadata": {
    "ExecuteTime": {
     "end_time": "2025-06-08T11:07:28.429438Z",
     "start_time": "2025-06-08T11:07:28.422373Z"
    }
   },
   "cell_type": "code",
   "source": "similar_pairs = compare_all_tokenized_files(tokenization_res, threshold=0.1)",
   "id": "ef28475c5019f025",
   "outputs": [],
   "execution_count": 107
  },
  {
   "metadata": {
    "ExecuteTime": {
     "end_time": "2025-06-08T11:07:29.490635Z",
     "start_time": "2025-06-08T11:07:29.487966Z"
    }
   },
   "cell_type": "code",
   "source": [
    "print(\"\\nSongs with significant similarity (> 0.5):\")\n",
    "for song1, song2, sim in similar_pairs:\n",
    "    print(f\"{song1} ↔ {song2}: similarity = {sim:.3f}\")"
   ],
   "id": "556d620f5b88795b",
   "outputs": [
    {
     "name": "stdout",
     "output_type": "stream",
     "text": [
      "\n",
      "Songs with significant similarity (> 0.5):\n",
      "('InTheArmyNow', 'StatusQuo') ↔ ('Радио', 'RADIOTAPOK'): similarity = 0.794\n",
      "('InTheArmyNow', 'StatusQuo') ↔ ('RADIO', 'Rammstein'): similarity = 0.793\n",
      "('InTheArmyNow', 'StatusQuo') ↔ ('YoureintheArmyNow', 'BollandBolland'): similarity = 0.806\n",
      "('InTheArmyNow', 'StatusQuo') ↔ ('TimeinaBottle', 'JimCroce'): similarity = 0.813\n",
      "('Радио', 'RADIOTAPOK') ↔ ('RADIO', 'Rammstein'): similarity = 0.794\n",
      "('Радио', 'RADIOTAPOK') ↔ ('YoureintheArmyNow', 'BollandBolland'): similarity = 0.806\n",
      "('Радио', 'RADIOTAPOK') ↔ ('TimeinaBottle', 'JimCroce'): similarity = 0.803\n",
      "('RADIO', 'Rammstein') ↔ ('YoureintheArmyNow', 'BollandBolland'): similarity = 0.806\n",
      "('RADIO', 'Rammstein') ↔ ('TimeinaBottle', 'JimCroce'): similarity = 0.810\n",
      "('YoureintheArmyNow', 'BollandBolland') ↔ ('TimeinaBottle', 'JimCroce'): similarity = 0.816\n"
     ]
    }
   ],
   "execution_count": 108
  },
  {
   "metadata": {},
   "cell_type": "markdown",
   "source": "### Наброски",
   "id": "af30e60979f90e6f"
  },
  {
   "metadata": {
    "ExecuteTime": {
     "end_time": "2025-06-08T09:58:27.490504Z",
     "start_time": "2025-06-08T09:58:27.445752Z"
    }
   },
   "cell_type": "code",
   "source": [
    "tokenizer = REMI()\n",
    "\n",
    "midi_path_1 = os.path.join(MIDI_DIR, 'bb.mid')\n",
    "midi_path_2 = os.path.join(MIDI_DIR, 'quo.mid')\n",
    "\n",
    "tokens1 = tokenize_midi_file(tokenizer, midi_path_1)\n",
    "tokens2 = tokenize_midi_file(tokenizer, midi_path_2)\n",
    "\n",
    "similarity = compare_token_vectors(tokens1, tokens2)\n",
    "\n",
    "print(f\"Cosine similarity between MIDI tracks: {similarity:.4f}\")"
   ],
   "id": "4281a95a0bdc4512",
   "outputs": [
    {
     "name": "stdout",
     "output_type": "stream",
     "text": [
      "Cosine similarity between MIDI tracks: 0.7975\n"
     ]
    }
   ],
   "execution_count": 36
  },
  {
   "metadata": {
    "ExecuteTime": {
     "end_time": "2025-06-08T10:10:22.083451Z",
     "start_time": "2025-06-08T10:10:22.008908Z"
    }
   },
   "cell_type": "code",
   "source": [
    "tokens_midilike_1 = tokenize_with_miditok(MIDILike, midi_path_1)\n",
    "tokens_midilike_2 = tokenize_with_miditok(MIDILike, midi_path_2)\n",
    "\n",
    "# TSD\n",
    "tokens_tsd_1 = tokenize_with_miditok(TSD, midi_path_1)\n",
    "tokens_tsd_2 = tokenize_with_miditok(TSD, midi_path_2)"
   ],
   "id": "33517b8dcd0a1e43",
   "outputs": [],
   "execution_count": 47
  },
  {
   "metadata": {
    "ExecuteTime": {
     "end_time": "2025-06-08T10:09:15.501823Z",
     "start_time": "2025-06-08T10:09:15.497970Z"
    }
   },
   "cell_type": "code",
   "source": [
    "similarity = compare_token_vectors(tokens_midilike_1, tokens_midilike_2)\n",
    "\n",
    "print(f\"Cosine similarity between MIDI tracks: {similarity:.4f}\")"
   ],
   "id": "42d5c4720521c66b",
   "outputs": [
    {
     "name": "stdout",
     "output_type": "stream",
     "text": [
      "Cosine similarity between MIDI tracks: 0.8060\n"
     ]
    }
   ],
   "execution_count": 46
  },
  {
   "metadata": {
    "ExecuteTime": {
     "end_time": "2025-06-08T10:10:36.119674Z",
     "start_time": "2025-06-08T10:10:36.115889Z"
    }
   },
   "cell_type": "code",
   "source": [
    "similarity = compare_token_vectors(tokens_tsd_1, tokens_tsd_2)\n",
    "\n",
    "print(f\"Cosine similarity between MIDI tracks: {similarity:.4f}\")"
   ],
   "id": "97be0de2db74ba04",
   "outputs": [
    {
     "name": "stdout",
     "output_type": "stream",
     "text": [
      "Cosine similarity between MIDI tracks: 0.8184\n"
     ]
    }
   ],
   "execution_count": 48
  }
 ],
 "metadata": {
  "kernelspec": {
   "display_name": "Python 3",
   "language": "python",
   "name": "python3"
  },
  "language_info": {
   "codemirror_mode": {
    "name": "ipython",
    "version": 2
   },
   "file_extension": ".py",
   "mimetype": "text/x-python",
   "name": "python",
   "nbconvert_exporter": "python",
   "pygments_lexer": "ipython2",
   "version": "2.7.6"
  }
 },
 "nbformat": 4,
 "nbformat_minor": 5
}
