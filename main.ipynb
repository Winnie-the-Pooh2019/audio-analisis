{
 "cells": [
  {
   "cell_type": "code",
   "id": "initial_id",
   "metadata": {
    "collapsed": true,
    "ExecuteTime": {
     "end_time": "2025-05-27T04:06:53.479717Z",
     "start_time": "2025-05-27T04:06:53.476122Z"
    }
   },
   "source": [
    "from difflib import SequenceMatcher\n",
    "import dotenv\n",
    "import os\n",
    "import requests\n",
    "from gradio_client import Client, handle_file"
   ],
   "outputs": [],
   "execution_count": 21
  },
  {
   "metadata": {
    "ExecuteTime": {
     "end_time": "2025-05-27T04:06:53.532326Z",
     "start_time": "2025-05-27T04:06:53.527141Z"
    }
   },
   "cell_type": "code",
   "source": "dotenv.load_dotenv(dotenv_path=\"./.env\")",
   "id": "268429954b6acd6f",
   "outputs": [
    {
     "data": {
      "text/plain": [
       "True"
      ]
     },
     "execution_count": 22,
     "metadata": {},
     "output_type": "execute_result"
    }
   ],
   "execution_count": 22
  },
  {
   "metadata": {
    "ExecuteTime": {
     "end_time": "2025-05-27T04:10:28.394769Z",
     "start_time": "2025-05-27T04:10:28.392062Z"
    }
   },
   "cell_type": "code",
   "source": [
    "BASE_URL = os.getenv(\"BASE_URL\")             # faster-whisper-server base URL\n",
    "MODEL_NAME = os.getenv(\"WHISPER_MODEL\")        # server model, e.g., 'small', 'base', etc."
   ],
   "id": "de84d6dca49e75e2",
   "outputs": [],
   "execution_count": 35
  },
  {
   "metadata": {
    "ExecuteTime": {
     "end_time": "2025-05-27T04:10:37.485278Z",
     "start_time": "2025-05-27T04:10:37.482333Z"
    }
   },
   "cell_type": "code",
   "source": [
    "AUDIO1 = os.getenv(\"AUDIO1\")             # faster-whisper-server base URL\n",
    "AUDIO2 = os.getenv(\"AUDIO2\")"
   ],
   "id": "92f261b8982915bd",
   "outputs": [],
   "execution_count": 37
  },
  {
   "metadata": {
    "ExecuteTime": {
     "end_time": "2025-05-27T04:10:38.453454Z",
     "start_time": "2025-05-27T04:10:38.422325Z"
    }
   },
   "cell_type": "code",
   "source": "client = Client(BASE_URL)",
   "id": "6c5051c7f3ea8536",
   "outputs": [
    {
     "name": "stdout",
     "output_type": "stream",
     "text": [
      "Loaded as API: http://localhost:8000/ ✔\n"
     ]
    }
   ],
   "execution_count": 38
  },
  {
   "metadata": {
    "ExecuteTime": {
     "end_time": "2025-05-27T04:06:53.729494Z",
     "start_time": "2025-05-27T04:06:53.725264Z"
    }
   },
   "cell_type": "code",
   "source": [
    "def transcribe_file(path):\n",
    "    try:\n",
    "        result = client.predict(\n",
    "            file_path=handle_file(path),\n",
    "            model=MODEL_NAME,\n",
    "            task='transcribe',\n",
    "            temperature=0,\n",
    "            stream=False,\n",
    "            api_name='/predict'\n",
    "        )\n",
    "\n",
    "        return result\n",
    "    except requests.RequestException as e:\n",
    "        print(f\"Error during transcription: {e}\")"
   ],
   "id": "fe39bdbbc01f2c1e",
   "outputs": [],
   "execution_count": 26
  },
  {
   "metadata": {
    "ExecuteTime": {
     "end_time": "2025-05-27T04:06:53.776633Z",
     "start_time": "2025-05-27T04:06:53.773758Z"
    }
   },
   "cell_type": "code",
   "source": [
    "def compute_similarity(text1: str, text2: str) -> float:\n",
    "    matcher = SequenceMatcher(None, text1, text2)\n",
    "    return matcher.ratio() * 100"
   ],
   "id": "9e4029a58752763e",
   "outputs": [],
   "execution_count": 27
  },
  {
   "metadata": {
    "ExecuteTime": {
     "end_time": "2025-05-27T04:10:48.123010Z",
     "start_time": "2025-05-27T04:10:48.119206Z"
    }
   },
   "cell_type": "code",
   "source": [
    "def main():\n",
    "    audio1 = AUDIO1\n",
    "    audio2 = AUDIO2\n",
    "\n",
    "    if not os.path.isfile(audio1) or not os.path.isfile(audio2):\n",
    "        print(\"Error: One or both audio file paths are invalid.\")\n",
    "        return\n",
    "\n",
    "    print(\"Transcribing first audio...\")\n",
    "    text1 = transcribe_file(audio1)\n",
    "    print(f\"First transcription:\\n{text1}\\n\")\n",
    "\n",
    "    print(\"Transcribing second audio...\")\n",
    "    text2 = transcribe_file(audio2)\n",
    "    print(f\"Second transcription:\\n{text2}\\n\")\n",
    "\n",
    "    similarity = compute_similarity(text1, text2)\n",
    "    print(f\"Text similarity: {similarity:.2f}%\")"
   ],
   "id": "202ad5d694c0c404",
   "outputs": [],
   "execution_count": 39
  },
  {
   "metadata": {
    "ExecuteTime": {
     "end_time": "2025-05-27T04:11:52.442056Z",
     "start_time": "2025-05-27T04:10:49.535346Z"
    }
   },
   "cell_type": "code",
   "source": "main()",
   "id": "147cd9c485e21f2d",
   "outputs": [
    {
     "name": "stdout",
     "output_type": "stream",
     "text": [
      "Transcribing first audio...\n",
      "First transcription:\n",
      "A vacation in a foreign land Uncle Sam does the best he can you're in the army now oh you're in the army now now you remember what the draft man said nothing to do all day but stay in bed you're in the army now oh you're in the army now you'll be the hero of the neighborhood nobody knows that you left oh don't you in the army now oh oh you're in the army now smiley faces as you wait to land but once you get there no one kiss a damn you're in the army now oh you're in the army now hang with me it's flying over your head smile's flying over your head if you want to survive get out of it you're in the army now shut me down in the bed of night the sun and cold stay in the pool fight you're in the army now oh oh you're in the army now you're in the army now oh oh you're in the army now you've got your orders get us you don't stay the fingers on the trigger don't stay right you're in the army now oh oh you're in the army now you're in the army now oh oh oh you're in the army now I was falling and you just can't see as the solutions are reality you're in the army now oh oh oh you're in the army in the army now you're in the army now oh oh oh you're in the army now you're in the army now oh oh you're in the army in the army now oh oh oh you're in the army in the army now oh oh you're in the army in the army now oh oh you're in the army in the army now oh oh you're in the army you're in the army now\n",
      "\n",
      "Transcribing second audio...\n",
      "Second transcription:\n",
      "A vacation in the foreign land Uncle Sam does the best he can You're in the army now Whoa, whoa, you're in the army now Now you remember what the draft man said Nothing to do while they were staying in bed You're in the army now Whoa, whoa, you're in the army now You're in the army now Whoa, whoa, you're in the army now You'll be the hero of the labor hunt Nobody knows that you left us all You're in the army now Whoa, whoa, you're in the army now Smiling faces on the way to them But once you get there, no one gets out Then you're in the army now Whoa, whoa, you're in the army now Whoa, whoa, you're in the army now Whoa, whoa, you're in the army now Whoa, whoa, you're in the army now Whoa, whoa, you're in the army now Whoa, whoa, you're in the army now Whoa, whoa, you're in the army now Whoa, whoa, you're in the army now Whoa, whoa, you're in the army now Whoa, whoa, you're in the army now Whoa, whoa, you're in the army now Whoa, whoa, you're in the army now Whoa, whoa, you're in the army now Whoa, whoa, whoa, you're in the army now Whoa, whoa, you're in the army now Whoa, whoa, you're in the army now Whoa, whoa, you're in the army now Whoa, whoa, you're in the army now Whoa, whoa, you're in the army now Whoa, whoa, you're in the army now Whoa, whoa, you're in the army now Whoa, whoa, you're in the army now Whoa, whoa, you're in the army now Whoa, whoa, you're in the army now Whoa, whoa, you're in the army now Whoa, whoa, you're in the army now Whoa, whoa, you're in the army now Whoa, whoa, you're in the army now Whoa, whoa, you're in the army now Whoa, whoa, you're in the army now Whoa, whoa, you're in the army now Whoa, whoa, you're in the army now Whoa, whoa, you're in the army now Whoa, whoa, you're in the army now Whoa, whoa, you're in the army now Whoa, whoa, you're in the army now Whoa, whoa, you're in the army now Whoa, whoa, you're in the army now Whoa, whoa, you're in the army now Whoa, whoa, you're in the army now Whoa, whoa, you're in the army now Whoa, whoa, you're in the army now\n",
      "\n",
      "Text similarity: 7.21%\n"
     ]
    }
   ],
   "execution_count": 40
  }
 ],
 "metadata": {
  "kernelspec": {
   "display_name": "Python 3",
   "language": "python",
   "name": "python3"
  },
  "language_info": {
   "codemirror_mode": {
    "name": "ipython",
    "version": 2
   },
   "file_extension": ".py",
   "mimetype": "text/x-python",
   "name": "python",
   "nbconvert_exporter": "python",
   "pygments_lexer": "ipython2",
   "version": "2.7.6"
  }
 },
 "nbformat": 4,
 "nbformat_minor": 5
}
